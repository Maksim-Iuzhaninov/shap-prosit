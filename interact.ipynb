{
 "cells": [
  {
   "cell_type": "code",
   "execution_count": 3,
   "id": "e65f94ff-1b97-40a1-90a0-34c45b512ceb",
   "metadata": {},
   "outputs": [
    {
     "name": "stdout",
     "output_type": "stream",
     "text": [
      "Hello\n"
     ]
    }
   ],
   "source": [
    "import logging\n",
    "import os\n",
    "import sys\n",
    "from typing import Union\n",
    "\n",
    "import pandas as pd\n",
    "import numpy as np\n",
    "import yaml\n",
    "from numpy.typing import NDArray\n",
    "\n",
    "import shap\n",
    "import matplotlib.pyplot as plt\n",
    "import matplotlib\n",
    "#matplotlib.use('inline')\n",
    "%matplotlib inline\n",
    "sys.path.append(os.getcwd())\n",
    "\n",
    "from src.models.model_wrappers import ModelWrapper, model_wrappers\n",
    "from src.shap_prosit.shap_calculator import ShapCalculator\n",
    "\n",
    "#tf.get_logger().setLevel(logging.ERROR)\n",
    "\n",
    "def local_explanation(\n",
    "    sequence, \n",
    "    charge, \n",
    "    energy,\n",
    "    method='HCD',\n",
    "    ion='y5+1',\n",
    "    samp=100\n",
    "):\n",
    "    space = (30-len(sequence))*[\"\"]\n",
    "    calc_input = np.array(list(sequence) + space + [str(charge), str(energy), str(method)], dtype='<U4')[None]\n",
    "\n",
    "    model_wrapper = model_wrappers[config[\"model_type\"]](\n",
    "        model_path=config[\"model_path\"], mode=ion\n",
    "    )\n",
    "    sc = ShapCalculator(ion, val, bgd, model_wrapper=model_wrapper)\n",
    "    bgd_pred = model_wrapper.make_prediction(bgd)\n",
    "    bgd_mean = np.mean(bgd_pred)\n",
    "    \n",
    "    out_dict = sc.calc_shap_values(calc_input, samp=samp)\n",
    "    ext = int(ion[1])\n",
    "    poslambda = lambda a: a-(len(sequence)-ext) if ion[0]=='y' else ext-a-1\n",
    "    tokens = ['%s_%d'%(b, poslambda(a)) for a,b in enumerate(sequence)]\n",
    "    explanation = shap.Explanation(out_dict['shap_values'], base_values=bgd_mean, feature_names=tokens)\n",
    "    \n",
    "    plt.close()\n",
    "    matplotlib.use('inline')\n",
    "    ax = shap.waterfall_plot(explanation, show=False)\n",
    "    fig = ax.get_figure()\n",
    "    #fig.set_figheight(6.5)\n",
    "    #fig.set_figwidth(8)\n",
    "    #ax.set_title(\"%s\"%sequence, size=20)\n",
    "    \n",
    "    return fig\n",
    "\n",
    "with open(\"config.yaml\", encoding=\"utf-8\") as file:\n",
    "    config = yaml.safe_load(file)[\"shap_calculator\"]\n",
    "\n",
    "#if not os.path.exists(config[\"ion\"]):\n",
    "#   os.makedirs(config[\"ion\"])\n",
    "\n",
    "# Shuffle validation dataset and split it in background and validation.\n",
    "val_data = pd.read_parquet(\"val_inps.parquet\")\n",
    "config['perm_path'] = \"./data/hcd/y5+1 Prosit2019/perm.txt\"\n",
    "if config[\"perm_path\"] is None:\n",
    "    perm = np.random.permutation(np.arange(len(val_data)))\n",
    "    #np.savetxt(output_path + \"/perm.txt\", perm, fmt=\"%d\")\n",
    "else:\n",
    "    perm = np.loadtxt(config[\"perm_path\"]).astype(int)\n",
    "bgd_sz = config['bgd_sz']\n",
    "bgd = np.stack(val_data['full'][perm[:bgd_sz]])\n",
    "val = np.stack(val_data['full'][perm[bgd_sz:]])"
   ]
  },
  {
   "cell_type": "code",
   "execution_count": 13,
   "id": "32dd0093-5851-489f-ac22-5385403c7715",
   "metadata": {
    "scrolled": true
   },
   "outputs": [
    {
     "data": {
      "application/vnd.jupyter.widget-view+json": {
       "model_id": "5e4a5dbce1584e88b8c51ec0e0b034db",
       "version_major": 2,
       "version_minor": 0
      },
      "text/plain": [
       "Prosit_2019_intensity::   0%|          | 0/1 [00:00<?, ?it/s]"
      ]
     },
     "metadata": {},
     "output_type": "display_data"
    },
    {
     "name": "stdout",
     "output_type": "stream",
     "text": [
      "   peptide_sequences  precursor_charges  collision_energies   intensities  \\\n",
      "0      VKLANPLHFYEAR                  3                  30  8.080599e-02   \n",
      "0      VKLANPLHFYEAR                  3                  30  4.962180e-08   \n",
      "0      VKLANPLHFYEAR                  3                  30  4.962180e-08   \n",
      "0      VKLANPLHFYEAR                  3                  30  4.962180e-08   \n",
      "0      VKLANPLHFYEAR                  3                  30  4.962180e-08   \n",
      "..               ...                ...                 ...           ...   \n",
      "99  AVLSQPCNTLHLTVLR                  2                  30  3.181774e-08   \n",
      "99  AVLSQPCNTLHLTVLR                  2                  30  3.181774e-08   \n",
      "99  AVLSQPCNTLHLTVLR                  2                  30  5.161847e-03   \n",
      "99  AVLSQPCNTLHLTVLR                  2                  30  1.616301e-03   \n",
      "99  AVLSQPCNTLHLTVLR                  2                  30  3.181774e-08   \n",
      "\n",
      "             mz annotation  \n",
      "0    175.118958    b'y1+1'  \n",
      "0     88.063118    b'y1+2'  \n",
      "0     59.044502    b'y1+3'  \n",
      "0    100.075691    b'b1+1'  \n",
      "0     50.541485    b'b1+2'  \n",
      "..          ...        ...  \n",
      "99   739.395203   b'b14+2'  \n",
      "99  1693.941772   b'y15+1'  \n",
      "99   847.474548   b'y15+2'  \n",
      "99  1590.867188   b'b15+1'  \n",
      "99   795.937256   b'b15+2'  \n",
      "\n",
      "[6758 rows x 6 columns]\n"
     ]
    },
    {
     "data": {
      "application/vnd.jupyter.widget-view+json": {
       "model_id": "5329eda9c55348759c4aa08f72ce970e",
       "version_major": 2,
       "version_minor": 0
      },
      "text/plain": [
       "Prosit_2019_intensity::   0%|          | 0/1 [00:00<?, ?it/s]"
      ]
     },
     "metadata": {},
     "output_type": "display_data"
    },
    {
     "name": "stdout",
     "output_type": "stream",
     "text": [
      "   peptide_sequences  precursor_charges  collision_energies   intensities  \\\n",
      "0      VKLANPLHFYEAR                  3                  30  8.080602e-02   \n",
      "0      VKLANPLHFYEAR                  3                  30  4.963298e-08   \n",
      "0      VKLANPLHFYEAR                  3                  30  4.963298e-08   \n",
      "0      VKLANPLHFYEAR                  3                  30  4.963298e-08   \n",
      "0      VKLANPLHFYEAR                  3                  30  4.963298e-08   \n",
      "..               ...                ...                 ...           ...   \n",
      "99  AVLSQPCNTLHLTVLR                  2                  30  3.180974e-08   \n",
      "99  AVLSQPCNTLHLTVLR                  2                  30  3.180974e-08   \n",
      "99  AVLSQPCNTLHLTVLR                  2                  30  5.153663e-03   \n",
      "99  AVLSQPCNTLHLTVLR                  2                  30  1.618086e-03   \n",
      "99  AVLSQPCNTLHLTVLR                  2                  30  3.180974e-08   \n",
      "\n",
      "             mz annotation  \n",
      "0    175.118958    b'y1+1'  \n",
      "0     88.063118    b'y1+2'  \n",
      "0     59.044502    b'y1+3'  \n",
      "0    100.075691    b'b1+1'  \n",
      "0     50.541485    b'b1+2'  \n",
      "..          ...        ...  \n",
      "99   739.395203   b'b14+2'  \n",
      "99  1693.941772   b'y15+1'  \n",
      "99   847.474548   b'y15+2'  \n",
      "99  1590.867188   b'b15+1'  \n",
      "99   795.937256   b'b15+2'  \n",
      "\n",
      "[6758 rows x 6 columns]\n"
     ]
    },
    {
     "data": {
      "application/vnd.jupyter.widget-view+json": {
       "model_id": "da2b0de23bba45cfb196e4dbff478dfa",
       "version_major": 2,
       "version_minor": 0
      },
      "text/plain": [
       "Prosit_2019_intensity::   0%|          | 0/1 [00:00<?, ?it/s]"
      ]
     },
     "metadata": {},
     "output_type": "display_data"
    },
    {
     "data": {
      "application/vnd.jupyter.widget-view+json": {
       "model_id": "d3408711712a4bc5bece00d5470ad0aa",
       "version_major": 2,
       "version_minor": 0
      },
      "text/plain": [
       "Prosit_2019_intensity::   0%|          | 0/1 [00:00<?, ?it/s]"
      ]
     },
     "metadata": {},
     "output_type": "display_data"
    },
    {
     "data": {
      "application/vnd.jupyter.widget-view+json": {
       "model_id": "cc64bd5796db4875ae9524150e49b9a4",
       "version_major": 2,
       "version_minor": 0
      },
      "text/plain": [
       "  0%|          | 0/1 [00:00<?, ?it/s]"
      ]
     },
     "metadata": {},
     "output_type": "display_data"
    },
    {
     "data": {
      "application/vnd.jupyter.widget-view+json": {
       "model_id": "37b3c8b1a554404fbcc8942c9acec833",
       "version_major": 2,
       "version_minor": 0
      },
      "text/plain": [
       "Prosit_2019_intensity::   0%|          | 0/1 [00:00<?, ?it/s]"
      ]
     },
     "metadata": {},
     "output_type": "display_data"
    },
    {
     "data": {
      "application/vnd.jupyter.widget-view+json": {
       "model_id": "85fca8a6fbb64f79b32b7f1dd765b34e",
       "version_major": 2,
       "version_minor": 0
      },
      "text/plain": [
       "Prosit_2019_intensity::   0%|          | 0/1 [00:00<?, ?it/s]"
      ]
     },
     "metadata": {},
     "output_type": "display_data"
    },
    {
     "data": {
      "application/vnd.jupyter.widget-view+json": {
       "model_id": "68b9f88c67184cfc93721309d6d8639f",
       "version_major": 2,
       "version_minor": 0
      },
      "text/plain": [
       "Prosit_2019_intensity::   0%|          | 0/1 [00:00<?, ?it/s]"
      ]
     },
     "metadata": {},
     "output_type": "display_data"
    },
    {
     "data": {
      "application/vnd.jupyter.widget-view+json": {
       "model_id": "1fe4bf6386174bb0a64be17cd82433ae",
       "version_major": 2,
       "version_minor": 0
      },
      "text/plain": [
       "Prosit_2019_intensity::   0%|          | 0/1 [00:00<?, ?it/s]"
      ]
     },
     "metadata": {},
     "output_type": "display_data"
    },
    {
     "data": {
      "application/vnd.jupyter.widget-view+json": {
       "model_id": "b3808c313f16491a85cc59d9779af332",
       "version_major": 2,
       "version_minor": 0
      },
      "text/plain": [
       "Prosit_2019_intensity::   0%|          | 0/1 [00:00<?, ?it/s]"
      ]
     },
     "metadata": {},
     "output_type": "display_data"
    },
    {
     "data": {
      "application/vnd.jupyter.widget-view+json": {
       "model_id": "9b61680df1ac417d82ba854ee40c962b",
       "version_major": 2,
       "version_minor": 0
      },
      "text/plain": [
       "Prosit_2019_intensity::   0%|          | 0/1 [00:00<?, ?it/s]"
      ]
     },
     "metadata": {},
     "output_type": "display_data"
    },
    {
     "data": {
      "application/vnd.jupyter.widget-view+json": {
       "model_id": "de6ed6c0374844f2b9dc4bffc63e41b5",
       "version_major": 2,
       "version_minor": 0
      },
      "text/plain": [
       "Prosit_2019_intensity::   0%|          | 0/1 [00:00<?, ?it/s]"
      ]
     },
     "metadata": {},
     "output_type": "display_data"
    },
    {
     "data": {
      "application/vnd.jupyter.widget-view+json": {
       "model_id": "9a624e7965234b44b65b0d6ad5f6a48d",
       "version_major": 2,
       "version_minor": 0
      },
      "text/plain": [
       "Prosit_2019_intensity::   0%|          | 0/1 [00:00<?, ?it/s]"
      ]
     },
     "metadata": {},
     "output_type": "display_data"
    },
    {
     "data": {
      "application/vnd.jupyter.widget-view+json": {
       "model_id": "5304b14d80ae4845ad93ffb0b7e1d6a6",
       "version_major": 2,
       "version_minor": 0
      },
      "text/plain": [
       "Prosit_2019_intensity::   0%|          | 0/1 [00:00<?, ?it/s]"
      ]
     },
     "metadata": {},
     "output_type": "display_data"
    },
    {
     "data": {
      "application/vnd.jupyter.widget-view+json": {
       "model_id": "3e7091f8eb4f4de4b76ff701b08a48c5",
       "version_major": 2,
       "version_minor": 0
      },
      "text/plain": [
       "Prosit_2019_intensity::   0%|          | 0/1 [00:00<?, ?it/s]"
      ]
     },
     "metadata": {},
     "output_type": "display_data"
    },
    {
     "data": {
      "application/vnd.jupyter.widget-view+json": {
       "model_id": "952684eec4dd4358a8616bf6ef6e4fec",
       "version_major": 2,
       "version_minor": 0
      },
      "text/plain": [
       "Prosit_2019_intensity::   0%|          | 0/1 [00:00<?, ?it/s]"
      ]
     },
     "metadata": {},
     "output_type": "display_data"
    },
    {
     "data": {
      "image/png": "[encoded data removed]",
      "text/plain": [
       "<Figure size 800x600 with 3 Axes>"
      ]
     },
     "execution_count": 13,
     "metadata": {},
     "output_type": "execute_result"
    }
   ],
   "source": [
    "local_explanation(\"AADAAAPAA\", 2, 30, ion='b6+2', samp=100)"
   ]
  },
  {
   "cell_type": "code",
   "execution_count": 9,
   "id": "35581bd4-babe-4e0b-816a-cedd30604e8d",
   "metadata": {},
   "outputs": [
    {
     "data": {
      "application/vnd.jupyter.widget-view+json": {
       "model_id": "e980f72393064096bce41c0f334f09c6",
       "version_major": 2,
       "version_minor": 0
      },
      "text/plain": [
       "Prosit_2019_intensity::   0%|          | 0/1 [00:00<?, ?it/s]"
      ]
     },
     "metadata": {},
     "output_type": "display_data"
    },
    {
     "data": {
      "application/vnd.jupyter.widget-view+json": {
       "model_id": "22e4bcc5c78340d1985482b24dad5d95",
       "version_major": 2,
       "version_minor": 0
      },
      "text/plain": [
       "Prosit_2019_intensity::   0%|          | 0/1 [00:00<?, ?it/s]"
      ]
     },
     "metadata": {},
     "output_type": "display_data"
    },
    {
     "data": {
      "application/vnd.jupyter.widget-view+json": {
       "model_id": "e62736e1102b4f64bf47e2bd184c5290",
       "version_major": 2,
       "version_minor": 0
      },
      "text/plain": [
       "Prosit_2019_intensity::   0%|          | 0/1 [00:00<?, ?it/s]"
      ]
     },
     "metadata": {},
     "output_type": "display_data"
    },
    {
     "data": {
      "application/vnd.jupyter.widget-view+json": {
       "model_id": "f96a4d4e6d794823b150de889eb7018f",
       "version_major": 2,
       "version_minor": 0
      },
      "text/plain": [
       "Prosit_2019_intensity::   0%|          | 0/1 [00:00<?, ?it/s]"
      ]
     },
     "metadata": {},
     "output_type": "display_data"
    },
    {
     "data": {
      "application/vnd.jupyter.widget-view+json": {
       "model_id": "07ce094ef0c344b4883301eefcca397a",
       "version_major": 2,
       "version_minor": 0
      },
      "text/plain": [
       "  0%|          | 0/1 [00:00<?, ?it/s]"
      ]
     },
     "metadata": {},
     "output_type": "display_data"
    },
    {
     "data": {
      "application/vnd.jupyter.widget-view+json": {
       "model_id": "fa0efe2f02dd41348d6f02d053b42025",
       "version_major": 2,
       "version_minor": 0
      },
      "text/plain": [
       "Prosit_2019_intensity::   0%|          | 0/1 [00:00<?, ?it/s]"
      ]
     },
     "metadata": {},
     "output_type": "display_data"
    },
    {
     "data": {
      "application/vnd.jupyter.widget-view+json": {
       "model_id": "da749d136b404aa4855c6469baa1a7b6",
       "version_major": 2,
       "version_minor": 0
      },
      "text/plain": [
       "Prosit_2019_intensity::   0%|          | 0/1 [00:00<?, ?it/s]"
      ]
     },
     "metadata": {},
     "output_type": "display_data"
    },
    {
     "data": {
      "application/vnd.jupyter.widget-view+json": {
       "model_id": "d24e1613377e4fa085e2b8eca07d91f1",
       "version_major": 2,
       "version_minor": 0
      },
      "text/plain": [
       "Prosit_2019_intensity::   0%|          | 0/1 [00:00<?, ?it/s]"
      ]
     },
     "metadata": {},
     "output_type": "display_data"
    },
    {
     "data": {
      "application/vnd.jupyter.widget-view+json": {
       "model_id": "e224d22e7b74415990ecee58410e8179",
       "version_major": 2,
       "version_minor": 0
      },
      "text/plain": [
       "Prosit_2019_intensity::   0%|          | 0/1 [00:00<?, ?it/s]"
      ]
     },
     "metadata": {},
     "output_type": "display_data"
    },
    {
     "data": {
      "application/vnd.jupyter.widget-view+json": {
       "model_id": "cb98704ddc00415090df491b6453e2f9",
       "version_major": 2,
       "version_minor": 0
      },
      "text/plain": [
       "Prosit_2019_intensity::   0%|          | 0/1 [00:00<?, ?it/s]"
      ]
     },
     "metadata": {},
     "output_type": "display_data"
    },
    {
     "data": {
      "application/vnd.jupyter.widget-view+json": {
       "model_id": "b18f73f614e34682a57660a5a792fdb7",
       "version_major": 2,
       "version_minor": 0
      },
      "text/plain": [
       "Prosit_2019_intensity::   0%|          | 0/1 [00:00<?, ?it/s]"
      ]
     },
     "metadata": {},
     "output_type": "display_data"
    },
    {
     "data": {
      "application/vnd.jupyter.widget-view+json": {
       "model_id": "e7f9df26c47f40eb93494fd99c45e2b4",
       "version_major": 2,
       "version_minor": 0
      },
      "text/plain": [
       "Prosit_2019_intensity::   0%|          | 0/1 [00:00<?, ?it/s]"
      ]
     },
     "metadata": {},
     "output_type": "display_data"
    },
    {
     "data": {
      "application/vnd.jupyter.widget-view+json": {
       "model_id": "918d69cc13d34941a4f830ec880635cd",
       "version_major": 2,
       "version_minor": 0
      },
      "text/plain": [
       "Prosit_2019_intensity::   0%|          | 0/1 [00:00<?, ?it/s]"
      ]
     },
     "metadata": {},
     "output_type": "display_data"
    },
    {
     "data": {
      "application/vnd.jupyter.widget-view+json": {
       "model_id": "843394e5ac1c46ebb7c28a4b055487b1",
       "version_major": 2,
       "version_minor": 0
      },
      "text/plain": [
       "Prosit_2019_intensity::   0%|          | 0/1 [00:00<?, ?it/s]"
      ]
     },
     "metadata": {},
     "output_type": "display_data"
    },
    {
     "data": {
      "application/vnd.jupyter.widget-view+json": {
       "model_id": "0b53295db4c34860b074012f37385be0",
       "version_major": 2,
       "version_minor": 0
      },
      "text/plain": [
       "Prosit_2019_intensity::   0%|          | 0/1 [00:00<?, ?it/s]"
      ]
     },
     "metadata": {},
     "output_type": "display_data"
    },
    {
     "data": {
      "application/vnd.jupyter.widget-view+json": {
       "model_id": "af836899a7d04c479d405514b956a84d",
       "version_major": 2,
       "version_minor": 0
      },
      "text/plain": [
       "Prosit_2019_intensity::   0%|          | 0/1 [00:00<?, ?it/s]"
      ]
     },
     "metadata": {},
     "output_type": "display_data"
    },
    {
     "data": {
      "image/png": "[encoded data removed]",
      "text/plain": [
       "<Figure size 800x650 with 3 Axes>"
      ]
     },
     "execution_count": 9,
     "metadata": {},
     "output_type": "execute_result"
    }
   ],
   "source": [
    "local_explanation(\"AADCIIIPVNR\", 2, 0.3, ion='y6+1', samp=100)"
   ]
  },
  {
   "cell_type": "code",
   "execution_count": 15,
   "id": "6d370072-4ba2-421d-87d7-7f2638356ec2",
   "metadata": {
    "scrolled": true
   },
   "outputs": [
    {
     "data": {
      "application/vnd.jupyter.widget-view+json": {
       "model_id": "941fdf9a1e844111bc842605939cda9d",
       "version_major": 2,
       "version_minor": 0
      },
      "text/plain": [
       "Prosit_2019_intensity::   0%|          | 0/1 [00:00<?, ?it/s]"
      ]
     },
     "metadata": {},
     "output_type": "display_data"
    },
    {
     "data": {
      "application/vnd.jupyter.widget-view+json": {
       "model_id": "987cba80c3764a6396464dd44cee67ff",
       "version_major": 2,
       "version_minor": 0
      },
      "text/plain": [
       "Prosit_2019_intensity::   0%|          | 0/1 [00:00<?, ?it/s]"
      ]
     },
     "metadata": {},
     "output_type": "display_data"
    },
    {
     "data": {
      "application/vnd.jupyter.widget-view+json": {
       "model_id": "8c2a29a2243848fba7c75c60e2773fd3",
       "version_major": 2,
       "version_minor": 0
      },
      "text/plain": [
       "Prosit_2019_intensity::   0%|          | 0/1 [00:00<?, ?it/s]"
      ]
     },
     "metadata": {},
     "output_type": "display_data"
    },
    {
     "data": {
      "application/vnd.jupyter.widget-view+json": {
       "model_id": "e6b64818170e439aa355a278d2435be1",
       "version_major": 2,
       "version_minor": 0
      },
      "text/plain": [
       "Prosit_2019_intensity::   0%|          | 0/1 [00:00<?, ?it/s]"
      ]
     },
     "metadata": {},
     "output_type": "display_data"
    },
    {
     "data": {
      "application/vnd.jupyter.widget-view+json": {
       "model_id": "d85f798b654f44b0ad7e85bbc583f304",
       "version_major": 2,
       "version_minor": 0
      },
      "text/plain": [
       "  0%|          | 0/1 [00:00<?, ?it/s]"
      ]
     },
     "metadata": {},
     "output_type": "display_data"
    },
    {
     "data": {
      "application/vnd.jupyter.widget-view+json": {
       "model_id": "2e230b40e5f347dda953306c4ca94bf7",
       "version_major": 2,
       "version_minor": 0
      },
      "text/plain": [
       "Prosit_2019_intensity::   0%|          | 0/1 [00:00<?, ?it/s]"
      ]
     },
     "metadata": {},
     "output_type": "display_data"
    },
    {
     "data": {
      "application/vnd.jupyter.widget-view+json": {
       "model_id": "f01f57eef5dc411ea7fa988257f17044",
       "version_major": 2,
       "version_minor": 0
      },
      "text/plain": [
       "Prosit_2019_intensity::   0%|          | 0/1 [00:00<?, ?it/s]"
      ]
     },
     "metadata": {},
     "output_type": "display_data"
    },
    {
     "data": {
      "application/vnd.jupyter.widget-view+json": {
       "model_id": "4f6edbc764444a95ab3344b9a7eb876d",
       "version_major": 2,
       "version_minor": 0
      },
      "text/plain": [
       "Prosit_2019_intensity::   0%|          | 0/1 [00:00<?, ?it/s]"
      ]
     },
     "metadata": {},
     "output_type": "display_data"
    },
    {
     "data": {
      "application/vnd.jupyter.widget-view+json": {
       "model_id": "de580bcabf684c148223e8ee785296d3",
       "version_major": 2,
       "version_minor": 0
      },
      "text/plain": [
       "Prosit_2019_intensity::   0%|          | 0/1 [00:00<?, ?it/s]"
      ]
     },
     "metadata": {},
     "output_type": "display_data"
    },
    {
     "data": {
      "application/vnd.jupyter.widget-view+json": {
       "model_id": "1ae6992c1bfb421d9e95189e6c78171a",
       "version_major": 2,
       "version_minor": 0
      },
      "text/plain": [
       "Prosit_2019_intensity::   0%|          | 0/1 [00:00<?, ?it/s]"
      ]
     },
     "metadata": {},
     "output_type": "display_data"
    },
    {
     "data": {
      "application/vnd.jupyter.widget-view+json": {
       "model_id": "a888d7b2bdd14918a81a516996da0eab",
       "version_major": 2,
       "version_minor": 0
      },
      "text/plain": [
       "Prosit_2019_intensity::   0%|          | 0/1 [00:00<?, ?it/s]"
      ]
     },
     "metadata": {},
     "output_type": "display_data"
    },
    {
     "data": {
      "application/vnd.jupyter.widget-view+json": {
       "model_id": "7e1211ab7502426f938ae760e20717cf",
       "version_major": 2,
       "version_minor": 0
      },
      "text/plain": [
       "Prosit_2019_intensity::   0%|          | 0/1 [00:00<?, ?it/s]"
      ]
     },
     "metadata": {},
     "output_type": "display_data"
    },
    {
     "data": {
      "application/vnd.jupyter.widget-view+json": {
       "model_id": "907be3cb1086495690c651e5989201c2",
       "version_major": 2,
       "version_minor": 0
      },
      "text/plain": [
       "Prosit_2019_intensity::   0%|          | 0/1 [00:00<?, ?it/s]"
      ]
     },
     "metadata": {},
     "output_type": "display_data"
    },
    {
     "data": {
      "application/vnd.jupyter.widget-view+json": {
       "model_id": "37166e0980dc42e99d4c64e9b2b3e3f4",
       "version_major": 2,
       "version_minor": 0
      },
      "text/plain": [
       "Prosit_2019_intensity::   0%|          | 0/1 [00:00<?, ?it/s]"
      ]
     },
     "metadata": {},
     "output_type": "display_data"
    },
    {
     "data": {
      "application/vnd.jupyter.widget-view+json": {
       "model_id": "8b963692b3f0425585bb11d2d5620309",
       "version_major": 2,
       "version_minor": 0
      },
      "text/plain": [
       "Prosit_2019_intensity::   0%|          | 0/1 [00:00<?, ?it/s]"
      ]
     },
     "metadata": {},
     "output_type": "display_data"
    },
    {
     "data": {
      "application/vnd.jupyter.widget-view+json": {
       "model_id": "ce60f18405dc489baf9f437943cde4e9",
       "version_major": 2,
       "version_minor": 0
      },
      "text/plain": [
       "Prosit_2019_intensity::   0%|          | 0/1 [00:00<?, ?it/s]"
      ]
     },
     "metadata": {},
     "output_type": "display_data"
    },
    {
     "data": {
      "image/png": "[encoded data removed]",
      "text/plain": [
       "<Figure size 800x650 with 3 Axes>"
      ]
     },
     "execution_count": 15,
     "metadata": {},
     "output_type": "execute_result"
    }
   ],
   "source": [
    "local_explanation(\"AADIVIIPVNR\", 2, 0.3, ion='b3+1', samp=100)"
   ]
  },
  {
   "cell_type": "code",
   "execution_count": 11,
   "id": "07ff448e-6677-48f1-b86e-2fbaa00dcaad",
   "metadata": {
    "scrolled": true
   },
   "outputs": [
    {
     "data": {
      "application/vnd.jupyter.widget-view+json": {
       "model_id": "6d3984896cf04cb4ad70ce0554770f4a",
       "version_major": 2,
       "version_minor": 0
      },
      "text/plain": [
       "Prosit_2019_intensity::   0%|          | 0/1 [00:00<?, ?it/s]"
      ]
     },
     "metadata": {},
     "output_type": "display_data"
    },
    {
     "name": "stdout",
     "output_type": "stream",
     "text": [
      "   peptide_sequences  precursor_charges  collision_energies   intensities  \\\n",
      "0      VKLANPLHFYEAR                  3                  30  8.080599e-02   \n",
      "0      VKLANPLHFYEAR                  3                  30  4.962180e-08   \n",
      "0      VKLANPLHFYEAR                  3                  30  4.962180e-08   \n",
      "0      VKLANPLHFYEAR                  3                  30  4.962180e-08   \n",
      "0      VKLANPLHFYEAR                  3                  30  4.962180e-08   \n",
      "..               ...                ...                 ...           ...   \n",
      "99  AVLSQPCNTLHLTVLR                  2                  30  3.181774e-08   \n",
      "99  AVLSQPCNTLHLTVLR                  2                  30  3.181774e-08   \n",
      "99  AVLSQPCNTLHLTVLR                  2                  30  5.161847e-03   \n",
      "99  AVLSQPCNTLHLTVLR                  2                  30  1.616301e-03   \n",
      "99  AVLSQPCNTLHLTVLR                  2                  30  3.181774e-08   \n",
      "\n",
      "             mz annotation  \n",
      "0    175.118958    b'y1+1'  \n",
      "0     88.063118    b'y1+2'  \n",
      "0     59.044502    b'y1+3'  \n",
      "0    100.075691    b'b1+1'  \n",
      "0     50.541485    b'b1+2'  \n",
      "..          ...        ...  \n",
      "99   739.395203   b'b14+2'  \n",
      "99  1693.941772   b'y15+1'  \n",
      "99   847.474548   b'y15+2'  \n",
      "99  1590.867188   b'b15+1'  \n",
      "99   795.937256   b'b15+2'  \n",
      "\n",
      "[6758 rows x 6 columns]\n"
     ]
    },
    {
     "data": {
      "application/vnd.jupyter.widget-view+json": {
       "model_id": "08b5ecbfa15e40b3adfa88d30f1d1c42",
       "version_major": 2,
       "version_minor": 0
      },
      "text/plain": [
       "Prosit_2019_intensity::   0%|          | 0/1 [00:00<?, ?it/s]"
      ]
     },
     "metadata": {},
     "output_type": "display_data"
    },
    {
     "name": "stdout",
     "output_type": "stream",
     "text": [
      "   peptide_sequences  precursor_charges  collision_energies   intensities  \\\n",
      "0      VKLANPLHFYEAR                  3                  30  8.080599e-02   \n",
      "0      VKLANPLHFYEAR                  3                  30  4.962180e-08   \n",
      "0      VKLANPLHFYEAR                  3                  30  4.962180e-08   \n",
      "0      VKLANPLHFYEAR                  3                  30  4.962180e-08   \n",
      "0      VKLANPLHFYEAR                  3                  30  4.962180e-08   \n",
      "..               ...                ...                 ...           ...   \n",
      "99  AVLSQPCNTLHLTVLR                  2                  30  3.181774e-08   \n",
      "99  AVLSQPCNTLHLTVLR                  2                  30  3.181774e-08   \n",
      "99  AVLSQPCNTLHLTVLR                  2                  30  5.161847e-03   \n",
      "99  AVLSQPCNTLHLTVLR                  2                  30  1.616301e-03   \n",
      "99  AVLSQPCNTLHLTVLR                  2                  30  3.181774e-08   \n",
      "\n",
      "             mz annotation  \n",
      "0    175.118958    b'y1+1'  \n",
      "0     88.063118    b'y1+2'  \n",
      "0     59.044502    b'y1+3'  \n",
      "0    100.075691    b'b1+1'  \n",
      "0     50.541485    b'b1+2'  \n",
      "..          ...        ...  \n",
      "99   739.395203   b'b14+2'  \n",
      "99  1693.941772   b'y15+1'  \n",
      "99   847.474548   b'y15+2'  \n",
      "99  1590.867188   b'b15+1'  \n",
      "99   795.937256   b'b15+2'  \n",
      "\n",
      "[6758 rows x 6 columns]\n"
     ]
    },
    {
     "data": {
      "application/vnd.jupyter.widget-view+json": {
       "model_id": "7442c1d5080f493aa60db12dbe0cd323",
       "version_major": 2,
       "version_minor": 0
      },
      "text/plain": [
       "Prosit_2019_intensity::   0%|          | 0/1 [00:00<?, ?it/s]"
      ]
     },
     "metadata": {},
     "output_type": "display_data"
    },
    {
     "data": {
      "application/vnd.jupyter.widget-view+json": {
       "model_id": "122d444aeb42441d9a71c94dbca54103",
       "version_major": 2,
       "version_minor": 0
      },
      "text/plain": [
       "Prosit_2019_intensity::   0%|          | 0/1 [00:00<?, ?it/s]"
      ]
     },
     "metadata": {},
     "output_type": "display_data"
    },
    {
     "name": "stdout",
     "output_type": "stream",
     "text": [
      "   peptide_sequences  precursor_charges  collision_energies   intensities  \\\n",
      "0        VKLANPLHFYE                  2                  30  2.633823e-01   \n",
      "0        VKLANPLHFYE                  2                  30  8.748298e-08   \n",
      "0        VKLANPLHFYE                  2                  30  8.748298e-08   \n",
      "0        VKLANPLHFYE                  2                  30  8.748298e-08   \n",
      "0        VKLANPLHFYE                  2                  30  2.808228e-01   \n",
      "..               ...                ...                 ...           ...   \n",
      "99       AVLSQPCNTLH                  2                  30  3.145722e-08   \n",
      "99       AVLSQPCNTLH                  2                  30  3.145722e-08   \n",
      "99       AVLSQPCNTLH                  2                  30  3.145722e-08   \n",
      "99       AVLSQPCNTLH                  2                  30  3.145722e-08   \n",
      "99       AVLSQPCNTLH                  2                  30  3.145722e-08   \n",
      "\n",
      "             mz annotation  \n",
      "0    148.060440    b'y1+1'  \n",
      "0     74.533852    b'y1+2'  \n",
      "0    100.075691    b'b1+1'  \n",
      "0     50.541485    b'b1+2'  \n",
      "0    311.123749    b'y2+1'  \n",
      "..          ...        ...  \n",
      "99   457.723663    b'b9+2'  \n",
      "99  1111.556396   b'y10+1'  \n",
      "99   556.281860   b'y10+2'  \n",
      "99  1027.524048   b'b10+1'  \n",
      "99   514.265686   b'b10+2'  \n",
      "\n",
      "[3816 rows x 6 columns]\n"
     ]
    },
    {
     "data": {
      "application/vnd.jupyter.widget-view+json": {
       "model_id": "2cfa6e3cd1754d76a1fecfaf2f68a6d9",
       "version_major": 2,
       "version_minor": 0
      },
      "text/plain": [
       "  0%|          | 0/1 [00:00<?, ?it/s]"
      ]
     },
     "metadata": {},
     "output_type": "display_data"
    },
    {
     "data": {
      "application/vnd.jupyter.widget-view+json": {
       "model_id": "7e2dfddd0a2440639f4c80eb6fb857ee",
       "version_major": 2,
       "version_minor": 0
      },
      "text/plain": [
       "Prosit_2019_intensity::   0%|          | 0/1 [00:00<?, ?it/s]"
      ]
     },
     "metadata": {},
     "output_type": "display_data"
    },
    {
     "data": {
      "application/vnd.jupyter.widget-view+json": {
       "model_id": "4f107e53e4ef4e93a9c427997d3407e2",
       "version_major": 2,
       "version_minor": 0
      },
      "text/plain": [
       "Prosit_2019_intensity::   0%|          | 0/1 [00:00<?, ?it/s]"
      ]
     },
     "metadata": {},
     "output_type": "display_data"
    },
    {
     "name": "stdout",
     "output_type": "stream",
     "text": [
      "    peptide_sequences  precursor_charges  collision_energies   intensities  \\\n",
      "0         AKLANPLHFYE                  2                  30  2.838703e-01   \n",
      "0         AKLANPLHFYE                  2                  30  9.611675e-08   \n",
      "0         AKLANPLHFYE                  2                  30  9.611675e-08   \n",
      "0         AKLANPLHFYE                  2                  30  9.611675e-08   \n",
      "0         AKLANPLHFYE                  2                  30  3.306668e-01   \n",
      "..                ...                ...                 ...           ...   \n",
      "999       AADCQSIPVRR                  2                  30  2.700438e-08   \n",
      "999       AADCQSIPVRR                  2                  30  2.700438e-08   \n",
      "999       AADCQSIPVRR                  2                  30  2.836615e-02   \n",
      "999       AADCQSIPVRR                  2                  30  1.524853e-01   \n",
      "999       AADCQSIPVRR                  2                  30  2.700438e-08   \n",
      "\n",
      "              mz annotation  \n",
      "0     148.060440    b'y1+1'  \n",
      "0      74.533852    b'y1+2'  \n",
      "0      72.044388    b'b1+1'  \n",
      "0      36.525833    b'b1+2'  \n",
      "0     311.123749    b'y2+1'  \n",
      "..           ...        ...  \n",
      "999   443.210388    b'b9+2'  \n",
      "999  1144.589111   b'y10+1'  \n",
      "999   572.798218   b'y10+2'  \n",
      "999  1041.514648   b'b10+1'  \n",
      "999   521.260925   b'b10+2'  \n",
      "\n",
      "[39080 rows x 6 columns]\n"
     ]
    },
    {
     "data": {
      "application/vnd.jupyter.widget-view+json": {
       "model_id": "d4ddfd2931be460f8c181e80a3654ca5",
       "version_major": 2,
       "version_minor": 0
      },
      "text/plain": [
       "Prosit_2019_intensity::   0%|          | 0/1 [00:00<?, ?it/s]"
      ]
     },
     "metadata": {},
     "output_type": "display_data"
    },
    {
     "name": "stdout",
     "output_type": "stream",
     "text": [
      "    peptide_sequences  precursor_charges  collision_energies   intensities  \\\n",
      "0         VKLANSLHFYE                  2                  30  1.784165e-01   \n",
      "0         VKLANSLHFYE                  2                  30  7.210436e-08   \n",
      "0         VKLANSLHFYE                  2                  30  7.210436e-08   \n",
      "0         VKLANSLHFYE                  2                  30  7.210436e-08   \n",
      "0         VKLANSLHFYE                  2                  30  2.644332e-01   \n",
      "..                ...                ...                 ...           ...   \n",
      "999       AADCISIPVLR                  2                  30  3.449000e-08   \n",
      "999       AADCISIPVLR                  2                  30  3.449000e-08   \n",
      "999       AADCISIPVLR                  2                  30  3.703903e-04   \n",
      "999       AADCISIPVLR                  2                  30  3.449000e-08   \n",
      "999       AADCISIPVLR                  2                  30  3.449000e-08   \n",
      "\n",
      "              mz annotation  \n",
      "0     148.060440    b'y1+1'  \n",
      "0      74.533852    b'y1+2'  \n",
      "0     100.075691    b'b1+1'  \n",
      "0      50.541485    b'b1+2'  \n",
      "0     311.123749    b'y2+1'  \n",
      "..           ...        ...  \n",
      "999   435.723114    b'b9+2'  \n",
      "999  1086.597534   b'y10+1'  \n",
      "999   543.802429   b'y10+2'  \n",
      "999   983.523010   b'b10+1'  \n",
      "999   492.265167   b'b10+2'  \n",
      "\n",
      "[38856 rows x 6 columns]\n"
     ]
    },
    {
     "data": {
      "application/vnd.jupyter.widget-view+json": {
       "model_id": "d8f99e53cf8c4d699cabb1c8e8dcff52",
       "version_major": 2,
       "version_minor": 0
      },
      "text/plain": [
       "Prosit_2019_intensity::   0%|          | 0/1 [00:00<?, ?it/s]"
      ]
     },
     "metadata": {},
     "output_type": "display_data"
    },
    {
     "name": "stdout",
     "output_type": "stream",
     "text": [
      "    peptide_sequences  precursor_charges  collision_energies   intensities  \\\n",
      "0         VKLANPLHFYR                  2                  30  1.380598e-01   \n",
      "0         VKLANPLHFYR                  2                  30  5.911225e-08   \n",
      "0         VKLANPLHFYR                  2                  30  5.911225e-08   \n",
      "0         VKLANPLHFYR                  2                  30  5.911225e-08   \n",
      "0         VKLANPLHFYR                  2                  30  7.229620e-02   \n",
      "..                ...                ...                 ...           ...   \n",
      "999       AVDCISIPVLR                  2                  30  3.927343e-08   \n",
      "999       AVDCISIPVLR                  2                  30  3.927343e-08   \n",
      "999       AVDCISIPVLR                  2                  30  1.288294e-03   \n",
      "999       AVDCISIPVLR                  2                  30  3.927343e-08   \n",
      "999       AVDCISIPVLR                  2                  30  3.927343e-08   \n",
      "\n",
      "              mz annotation  \n",
      "0     175.118958    b'y1+1'  \n",
      "0      88.063118    b'y1+2'  \n",
      "0     100.075691    b'b1+1'  \n",
      "0      50.541485    b'b1+2'  \n",
      "0     338.182281    b'y2+1'  \n",
      "..           ...        ...  \n",
      "999   449.738770    b'b9+2'  \n",
      "999  1114.628906   b'y10+1'  \n",
      "999   557.818054   b'y10+2'  \n",
      "999  1011.554321   b'b10+1'  \n",
      "999   506.280792   b'b10+2'  \n",
      "\n",
      "[38888 rows x 6 columns]\n"
     ]
    },
    {
     "data": {
      "application/vnd.jupyter.widget-view+json": {
       "model_id": "73bbc01af8dc4b7685e034b133756617",
       "version_major": 2,
       "version_minor": 0
      },
      "text/plain": [
       "Prosit_2019_intensity::   0%|          | 0/1 [00:00<?, ?it/s]"
      ]
     },
     "metadata": {},
     "output_type": "display_data"
    },
    {
     "name": "stdout",
     "output_type": "stream",
     "text": [
      "    peptide_sequences  precursor_charges  collision_energies   intensities  \\\n",
      "0         VKLCIPIHFYE                  2                  30  1.609249e-01   \n",
      "0         VKLCIPIHFYE                  2                  30  7.161757e-08   \n",
      "0         VKLCIPIHFYE                  2                  30  7.161757e-08   \n",
      "0         VKLCIPIHFYE                  2                  30  7.161757e-08   \n",
      "0         VKLCIPIHFYE                  2                  30  1.876099e-01   \n",
      "..                ...                ...                 ...           ...   \n",
      "999       AALCISINVRR                  2                  30  8.601651e-08   \n",
      "999       AALCISINVRR                  2                  30  8.601651e-08   \n",
      "999       AALCISINVRR                  2                  30  2.158056e-01   \n",
      "999       AALCISINVRR                  2                  30  4.740492e-01   \n",
      "999       AALCISINVRR                  2                  30  8.601651e-08   \n",
      "\n",
      "              mz annotation  \n",
      "0     148.060440    b'y1+1'  \n",
      "0      74.533852    b'y1+2'  \n",
      "0     100.075691    b'b1+1'  \n",
      "0      50.541485    b'b1+2'  \n",
      "0     311.123749    b'y2+1'  \n",
      "..           ...        ...  \n",
      "999   443.246765    b'b9+2'  \n",
      "999  1144.661865   b'y10+1'  \n",
      "999   572.834595   b'y10+2'  \n",
      "999  1041.587402   b'b10+1'  \n",
      "999   521.297302   b'b10+2'  \n",
      "\n",
      "[38928 rows x 6 columns]\n"
     ]
    },
    {
     "data": {
      "application/vnd.jupyter.widget-view+json": {
       "model_id": "9ac37abade574e5e8e1263bd106e7fbf",
       "version_major": 2,
       "version_minor": 0
      },
      "text/plain": [
       "Prosit_2019_intensity::   0%|          | 0/1 [00:00<?, ?it/s]"
      ]
     },
     "metadata": {},
     "output_type": "display_data"
    },
    {
     "name": "stdout",
     "output_type": "stream",
     "text": [
      "    peptide_sequences  precursor_charges  collision_energies   intensities  \\\n",
      "0         VKLANPIPFYE                  2                  30  2.729288e-01   \n",
      "0         VKLANPIPFYE                  2                  30  5.431907e-08   \n",
      "0         VKLANPIPFYE                  2                  30  7.006223e-03   \n",
      "0         VKLANPIPFYE                  2                  30  5.431907e-08   \n",
      "0         VKLANPIPFYE                  2                  30  1.000000e+00   \n",
      "..                ...                ...                 ...           ...   \n",
      "999       AADCIPINVRR                  2                  30  3.218053e-08   \n",
      "999       AADCIPINVRR                  2                  30  3.218053e-08   \n",
      "999       AADCIPINVRR                  2                  30  2.903968e-02   \n",
      "999       AADCIPINVRR                  2                  30  7.911692e-02   \n",
      "999       AADCIPINVRR                  2                  30  3.218053e-08   \n",
      "\n",
      "              mz annotation  \n",
      "0     148.060440    b'y1+1'  \n",
      "0      74.533852    b'y1+2'  \n",
      "0     100.075691    b'b1+1'  \n",
      "0      50.541485    b'b1+2'  \n",
      "0     311.123749    b'y2+1'  \n",
      "..           ...        ...  \n",
      "999   449.228577    b'b9+2'  \n",
      "999  1156.625488   b'y10+1'  \n",
      "999   578.816406   b'y10+2'  \n",
      "999  1053.551025   b'b10+1'  \n",
      "999   527.279114   b'b10+2'  \n",
      "\n",
      "[38740 rows x 6 columns]\n"
     ]
    },
    {
     "data": {
      "application/vnd.jupyter.widget-view+json": {
       "model_id": "761421b3745a4eafa7fd717391719152",
       "version_major": 2,
       "version_minor": 0
      },
      "text/plain": [
       "Prosit_2019_intensity::   0%|          | 0/1 [00:00<?, ?it/s]"
      ]
     },
     "metadata": {},
     "output_type": "display_data"
    },
    {
     "name": "stdout",
     "output_type": "stream",
     "text": [
      "    peptide_sequences  precursor_charges  collision_energies   intensities  \\\n",
      "0         AKLANPLHFRE                  2                  30  2.149621e-02   \n",
      "0         AKLANPLHFRE                  2                  30  5.014524e-08   \n",
      "0         AKLANPLHFRE                  2                  30  5.014524e-08   \n",
      "0         AKLANPLHFRE                  2                  30  5.014524e-08   \n",
      "0         AKLANPLHFRE                  2                  30  5.158438e-02   \n",
      "..                ...                ...                 ...           ...   \n",
      "999       AADCIPIPVLR                  2                  30  1.918019e-08   \n",
      "999       AADCIPIPVLR                  2                  30  1.918019e-08   \n",
      "999       AADCIPIPVLR                  2                  30  1.918019e-08   \n",
      "999       AADCIPIPVLR                  2                  30  1.918019e-08   \n",
      "999       AADCIPIPVLR                  2                  30  1.918019e-08   \n",
      "\n",
      "              mz annotation  \n",
      "0     148.060440    b'y1+1'  \n",
      "0      74.533852    b'y1+2'  \n",
      "0      72.044388    b'b1+1'  \n",
      "0      36.525833    b'b1+2'  \n",
      "0     304.161560    b'y2+1'  \n",
      "..           ...        ...  \n",
      "999   440.733490    b'b9+2'  \n",
      "999  1096.618286   b'y10+1'  \n",
      "999   548.812805   b'y10+2'  \n",
      "999   993.543762   b'b10+1'  \n",
      "999   497.275513   b'b10+2'  \n",
      "\n",
      "[38744 rows x 6 columns]\n"
     ]
    },
    {
     "data": {
      "application/vnd.jupyter.widget-view+json": {
       "model_id": "18b3c8fbbd3a489e9a7ce3b9ef530df0",
       "version_major": 2,
       "version_minor": 0
      },
      "text/plain": [
       "Prosit_2019_intensity::   0%|          | 0/1 [00:00<?, ?it/s]"
      ]
     },
     "metadata": {},
     "output_type": "display_data"
    },
    {
     "name": "stdout",
     "output_type": "stream",
     "text": [
      "    peptide_sequences  precursor_charges  collision_energies   intensities  \\\n",
      "0         AKLANSIHVRE                  2                  30  2.507869e-02   \n",
      "0         AKLANSIHVRE                  2                  30  6.853693e-08   \n",
      "0         AKLANSIHVRE                  2                  30  6.853693e-08   \n",
      "0         AKLANSIHVRE                  2                  30  6.853693e-08   \n",
      "0         AKLANSIHVRE                  2                  30  1.363237e-01   \n",
      "..                ...                ...                 ...           ...   \n",
      "999       AADSISINVRH                  2                  30  2.013016e-05   \n",
      "999       AADSISINVRH                  2                  30  3.509002e-08   \n",
      "999       AADSISINVRH                  2                  30  5.042559e-02   \n",
      "999       AADSISINVRH                  2                  30  1.539394e-02   \n",
      "999       AADSISINVRH                  2                  30  9.929955e-04   \n",
      "\n",
      "              mz annotation  \n",
      "0     148.060440    b'y1+1'  \n",
      "0      74.533852    b'y1+2'  \n",
      "0      72.044388    b'b1+1'  \n",
      "0      36.525833    b'b1+2'  \n",
      "0     304.161560    b'y2+1'  \n",
      "..           ...        ...  \n",
      "999   436.229614    b'b9+2'  \n",
      "999  1111.585449   b'y10+1'  \n",
      "999   556.296387   b'y10+2'  \n",
      "999  1027.553101   b'b10+1'  \n",
      "999   514.280151   b'b10+2'  \n",
      "\n",
      "[38780 rows x 6 columns]\n"
     ]
    },
    {
     "data": {
      "application/vnd.jupyter.widget-view+json": {
       "model_id": "4460092bb94140ce8444db70cfd272f3",
       "version_major": 2,
       "version_minor": 0
      },
      "text/plain": [
       "Prosit_2019_intensity::   0%|          | 0/1 [00:00<?, ?it/s]"
      ]
     },
     "metadata": {},
     "output_type": "display_data"
    },
    {
     "name": "stdout",
     "output_type": "stream",
     "text": [
      "    peptide_sequences  precursor_charges  collision_energies   intensities  \\\n",
      "0         AKLANSLHFYE                  2                  30  2.147494e-01   \n",
      "0         AKLANSLHFYE                  2                  30  8.780280e-08   \n",
      "0         AKLANSLHFYE                  2                  30  8.780280e-08   \n",
      "0         AKLANSLHFYE                  2                  30  8.780280e-08   \n",
      "0         AKLANSLHFYE                  2                  30  3.590970e-01   \n",
      "..                ...                ...                 ...           ...   \n",
      "999       AVDSQSINTRR                  2                  30  2.112740e-08   \n",
      "999       AVDSQSINTRR                  2                  30  2.112740e-08   \n",
      "999       AVDSQSINTRR                  2                  30  1.099458e-02   \n",
      "999       AVDSQSINTRR                  2                  30  7.245911e-02   \n",
      "999       AVDSQSINTRR                  2                  30  2.112740e-08   \n",
      "\n",
      "              mz annotation  \n",
      "0     148.060440    b'y1+1'  \n",
      "0      74.533852    b'y1+2'  \n",
      "0      72.044388    b'b1+1'  \n",
      "0      36.525833    b'b1+2'  \n",
      "0     311.123749    b'y2+1'  \n",
      "..           ...        ...  \n",
      "999   458.722168    b'b9+2'  \n",
      "999  1175.612671   b'y10+1'  \n",
      "999   588.309998   b'y10+2'  \n",
      "999  1072.538208   b'b10+1'  \n",
      "999   536.772705   b'b10+2'  \n",
      "\n",
      "[38848 rows x 6 columns]\n"
     ]
    },
    {
     "data": {
      "application/vnd.jupyter.widget-view+json": {
       "model_id": "71d318e2efa845c9b61d1f99adadc5d9",
       "version_major": 2,
       "version_minor": 0
      },
      "text/plain": [
       "Prosit_2019_intensity::   0%|          | 0/1 [00:00<?, ?it/s]"
      ]
     },
     "metadata": {},
     "output_type": "display_data"
    },
    {
     "name": "stdout",
     "output_type": "stream",
     "text": [
      "    peptide_sequences  precursor_charges  collision_energies   intensities  \\\n",
      "0         VALANPIHFYE                  2                  30  1.350043e-01   \n",
      "0         VALANPIHFYE                  2                  30  6.506193e-08   \n",
      "0         VALANPIHFYE                  2                  30  6.506193e-08   \n",
      "0         VALANPIHFYE                  2                  30  6.506193e-08   \n",
      "0         VALANPIHFYE                  2                  30  9.515598e-02   \n",
      "..                ...                ...                 ...           ...   \n",
      "999       AVLCISINTRR                  2                  30  9.677728e-08   \n",
      "999       AVLCISINTRR                  2                  30  9.677728e-08   \n",
      "999       AVLCISINTRR                  2                  30  1.793396e-01   \n",
      "999       AVLCISINTRR                  2                  30  4.263858e-01   \n",
      "999       AVLCISINTRR                  2                  30  9.677728e-08   \n",
      "\n",
      "              mz annotation  \n",
      "0     148.060440    b'y1+1'  \n",
      "0      74.533852    b'y1+2'  \n",
      "0     100.075691    b'b1+1'  \n",
      "0      50.541485    b'b1+2'  \n",
      "0     311.123749    b'y2+1'  \n",
      "..           ...        ...  \n",
      "999   458.252045    b'b9+2'  \n",
      "999  1174.672485   b'y10+1'  \n",
      "999   587.839905   b'y10+2'  \n",
      "999  1071.597900   b'b10+1'  \n",
      "999   536.302612   b'b10+2'  \n",
      "\n",
      "[38848 rows x 6 columns]\n"
     ]
    },
    {
     "data": {
      "application/vnd.jupyter.widget-view+json": {
       "model_id": "cd5651130a354101a661ac7bba3976b8",
       "version_major": 2,
       "version_minor": 0
      },
      "text/plain": [
       "Prosit_2019_intensity::   0%|          | 0/1 [00:00<?, ?it/s]"
      ]
     },
     "metadata": {},
     "output_type": "display_data"
    },
    {
     "name": "stdout",
     "output_type": "stream",
     "text": [
      "    peptide_sequences  precursor_charges  collision_energies   intensities  \\\n",
      "0         VKLCNSLHFYE                  2                  30  2.673369e-01   \n",
      "0         VKLCNSLHFYE                  2                  30  1.080842e-07   \n",
      "0         VKLCNSLHFYE                  2                  30  1.080842e-07   \n",
      "0         VKLCNSLHFYE                  2                  30  1.080842e-07   \n",
      "0         VKLCNSLHFYE                  2                  30  5.529821e-01   \n",
      "..                ...                ...                 ...           ...   \n",
      "999       AADSISIPVRR                  2                  30  3.319273e-08   \n",
      "999       AADSISIPVRR                  2                  30  3.319273e-08   \n",
      "999       AADSISIPVRR                  2                  30  3.958588e-02   \n",
      "999       AADSISIPVRR                  2                  30  1.167936e-01   \n",
      "999       AADSISIPVRR                  2                  30  3.319273e-08   \n",
      "\n",
      "              mz annotation  \n",
      "0     148.060440    b'y1+1'  \n",
      "0      74.533852    b'y1+2'  \n",
      "0     100.075691    b'b1+1'  \n",
      "0      50.541485    b'b1+2'  \n",
      "0     311.123749    b'y2+1'  \n",
      "..           ...        ...  \n",
      "999   427.734558    b'b9+2'  \n",
      "999  1113.637451   b'y10+1'  \n",
      "999   557.322388   b'y10+2'  \n",
      "999  1010.562927   b'b10+1'  \n",
      "999   505.785095   b'b10+2'  \n",
      "\n",
      "[38848 rows x 6 columns]\n"
     ]
    },
    {
     "data": {
      "image/png": "[encoded data removed]",
      "text/plain": [
       "<Figure size 800x650 with 3 Axes>"
      ]
     },
     "execution_count": 11,
     "metadata": {},
     "output_type": "execute_result"
    }
   ],
   "source": [
    "local_explanation(\"AADCISIPVRR\", 2, 0.3, ion=ion, samp=100)"
   ]
  },
  {
   "cell_type": "code",
   "execution_count": 83,
   "id": "ef025ec0-193a-40ef-8a7f-98d25ea60342",
   "metadata": {},
   "outputs": [
    {
     "data": {
      "application/vnd.jupyter.widget-view+json": {
       "model_id": "ffd80bf306204b188a718a69a19d54ee",
       "version_major": 2,
       "version_minor": 0
      },
      "text/plain": [
       "Prosit_2019_intensity::   0%|          | 0/1 [00:00<?, ?it/s]"
      ]
     },
     "metadata": {},
     "output_type": "display_data"
    },
    {
     "data": {
      "application/vnd.jupyter.widget-view+json": {
       "model_id": "ec6c88050da042109a7c94f97d8a3b5b",
       "version_major": 2,
       "version_minor": 0
      },
      "text/plain": [
       "Prosit_2019_intensity::   0%|          | 0/1 [00:00<?, ?it/s]"
      ]
     },
     "metadata": {},
     "output_type": "display_data"
    },
    {
     "data": {
      "application/vnd.jupyter.widget-view+json": {
       "model_id": "bbfe82569a3e424ea1641c374b3292c5",
       "version_major": 2,
       "version_minor": 0
      },
      "text/plain": [
       "Prosit_2019_intensity::   0%|          | 0/1 [00:00<?, ?it/s]"
      ]
     },
     "metadata": {},
     "output_type": "display_data"
    },
    {
     "data": {
      "application/vnd.jupyter.widget-view+json": {
       "model_id": "3de213b7b659403b994faa25419f1af0",
       "version_major": 2,
       "version_minor": 0
      },
      "text/plain": [
       "Prosit_2019_intensity::   0%|          | 0/1 [00:00<?, ?it/s]"
      ]
     },
     "metadata": {},
     "output_type": "display_data"
    },
    {
     "data": {
      "application/vnd.jupyter.widget-view+json": {
       "model_id": "f933c07986604a52be1248aa1e258fa6",
       "version_major": 2,
       "version_minor": 0
      },
      "text/plain": [
       "  0%|          | 0/1 [00:00<?, ?it/s]"
      ]
     },
     "metadata": {},
     "output_type": "display_data"
    },
    {
     "data": {
      "application/vnd.jupyter.widget-view+json": {
       "model_id": "185a270546134e76b02c7ee0537548a2",
       "version_major": 2,
       "version_minor": 0
      },
      "text/plain": [
       "Prosit_2019_intensity::   0%|          | 0/1 [00:00<?, ?it/s]"
      ]
     },
     "metadata": {},
     "output_type": "display_data"
    },
    {
     "data": {
      "application/vnd.jupyter.widget-view+json": {
       "model_id": "6382c235392b440ca8bfe813cda2d1b2",
       "version_major": 2,
       "version_minor": 0
      },
      "text/plain": [
       "Prosit_2019_intensity::   0%|          | 0/1 [00:00<?, ?it/s]"
      ]
     },
     "metadata": {},
     "output_type": "display_data"
    },
    {
     "data": {
      "application/vnd.jupyter.widget-view+json": {
       "model_id": "1c5a9d8523724651ac4fb5092136e19d",
       "version_major": 2,
       "version_minor": 0
      },
      "text/plain": [
       "Prosit_2019_intensity::   0%|          | 0/1 [00:00<?, ?it/s]"
      ]
     },
     "metadata": {},
     "output_type": "display_data"
    },
    {
     "data": {
      "application/vnd.jupyter.widget-view+json": {
       "model_id": "c73b06c3373e45daabbe53d230f4afea",
       "version_major": 2,
       "version_minor": 0
      },
      "text/plain": [
       "Prosit_2019_intensity::   0%|          | 0/1 [00:00<?, ?it/s]"
      ]
     },
     "metadata": {},
     "output_type": "display_data"
    },
    {
     "data": {
      "application/vnd.jupyter.widget-view+json": {
       "model_id": "5270c735dc0e43fc8df67774b782033d",
       "version_major": 2,
       "version_minor": 0
      },
      "text/plain": [
       "Prosit_2019_intensity::   0%|          | 0/1 [00:00<?, ?it/s]"
      ]
     },
     "metadata": {},
     "output_type": "display_data"
    },
    {
     "data": {
      "application/vnd.jupyter.widget-view+json": {
       "model_id": "8f7014108c1440a4b6f247d0d1ad6aee",
       "version_major": 2,
       "version_minor": 0
      },
      "text/plain": [
       "Prosit_2019_intensity::   0%|          | 0/1 [00:00<?, ?it/s]"
      ]
     },
     "metadata": {},
     "output_type": "display_data"
    },
    {
     "data": {
      "application/vnd.jupyter.widget-view+json": {
       "model_id": "ac91aac9669249e5962f4418a4d3c86a",
       "version_major": 2,
       "version_minor": 0
      },
      "text/plain": [
       "Prosit_2019_intensity::   0%|          | 0/1 [00:00<?, ?it/s]"
      ]
     },
     "metadata": {},
     "output_type": "display_data"
    },
    {
     "data": {
      "application/vnd.jupyter.widget-view+json": {
       "model_id": "0c27e91083b747dba224451ed3b840e4",
       "version_major": 2,
       "version_minor": 0
      },
      "text/plain": [
       "Prosit_2019_intensity::   0%|          | 0/1 [00:00<?, ?it/s]"
      ]
     },
     "metadata": {},
     "output_type": "display_data"
    },
    {
     "data": {
      "application/vnd.jupyter.widget-view+json": {
       "model_id": "0035725732ae4dd5a093523b2e161b46",
       "version_major": 2,
       "version_minor": 0
      },
      "text/plain": [
       "Prosit_2019_intensity::   0%|          | 0/1 [00:00<?, ?it/s]"
      ]
     },
     "metadata": {},
     "output_type": "display_data"
    },
    {
     "data": {
      "application/vnd.jupyter.widget-view+json": {
       "model_id": "57d1d2b232b3459192b88ae9d8839f3f",
       "version_major": 2,
       "version_minor": 0
      },
      "text/plain": [
       "Prosit_2019_intensity::   0%|          | 0/1 [00:00<?, ?it/s]"
      ]
     },
     "metadata": {},
     "output_type": "display_data"
    },
    {
     "data": {
      "application/vnd.jupyter.widget-view+json": {
       "model_id": "b1f1d6cfa48b4c31ba43514e7885a1d8",
       "version_major": 2,
       "version_minor": 0
      },
      "text/plain": [
       "Prosit_2019_intensity::   0%|          | 0/1 [00:00<?, ?it/s]"
      ]
     },
     "metadata": {},
     "output_type": "display_data"
    },
    {
     "data": {
      "image/png": "[encoded data removed]",
      "text/plain": [
       "<Figure size 800x650 with 3 Axes>"
      ]
     },
     "execution_count": 83,
     "metadata": {},
     "output_type": "execute_result"
    }
   ],
   "source": [
    "local_explanation(\"AADCISIPRNR\", 2, 0.3, ion='y4+1', samp=100)"
   ]
  },
  {
   "cell_type": "code",
   "execution_count": 23,
   "id": "a59cc64c-2f15-409e-b1ea-0a3c9827986d",
   "metadata": {},
   "outputs": [
    {
     "data": {
      "application/vnd.jupyter.widget-view+json": {
       "model_id": "f4cb04a35201484397f958afba0d1838",
       "version_major": 2,
       "version_minor": 0
      },
      "text/plain": [
       "Prosit_2019_intensity::   0%|          | 0/1 [00:00<?, ?it/s]"
      ]
     },
     "metadata": {},
     "output_type": "display_data"
    },
    {
     "data": {
      "application/vnd.jupyter.widget-view+json": {
       "model_id": "e81df10b3e02440cbd2c72b2a7f0382c",
       "version_major": 2,
       "version_minor": 0
      },
      "text/plain": [
       "Prosit_2019_intensity::   0%|          | 0/1 [00:00<?, ?it/s]"
      ]
     },
     "metadata": {},
     "output_type": "display_data"
    },
    {
     "data": {
      "application/vnd.jupyter.widget-view+json": {
       "model_id": "50597bd93cc14842960d87317f648ec1",
       "version_major": 2,
       "version_minor": 0
      },
      "text/plain": [
       "Prosit_2019_intensity::   0%|          | 0/1 [00:00<?, ?it/s]"
      ]
     },
     "metadata": {},
     "output_type": "display_data"
    },
    {
     "data": {
      "application/vnd.jupyter.widget-view+json": {
       "model_id": "bbab1b63cbd14664a8acf7f3103636dc",
       "version_major": 2,
       "version_minor": 0
      },
      "text/plain": [
       "Prosit_2019_intensity::   0%|          | 0/1 [00:00<?, ?it/s]"
      ]
     },
     "metadata": {},
     "output_type": "display_data"
    },
    {
     "data": {
      "application/vnd.jupyter.widget-view+json": {
       "model_id": "a90a2646cdac49a3b2c3fcad1aac32c5",
       "version_major": 2,
       "version_minor": 0
      },
      "text/plain": [
       "  0%|          | 0/1 [00:00<?, ?it/s]"
      ]
     },
     "metadata": {},
     "output_type": "display_data"
    },
    {
     "data": {
      "application/vnd.jupyter.widget-view+json": {
       "model_id": "56ce97ea8a864c3f9e6947a5a4fb1529",
       "version_major": 2,
       "version_minor": 0
      },
      "text/plain": [
       "Prosit_2019_intensity::   0%|          | 0/1 [00:00<?, ?it/s]"
      ]
     },
     "metadata": {},
     "output_type": "display_data"
    },
    {
     "data": {
      "application/vnd.jupyter.widget-view+json": {
       "model_id": "1ae7e26ae220437d9bdf57284ac8929d",
       "version_major": 2,
       "version_minor": 0
      },
      "text/plain": [
       "Prosit_2019_intensity::   0%|          | 0/1 [00:00<?, ?it/s]"
      ]
     },
     "metadata": {},
     "output_type": "display_data"
    },
    {
     "data": {
      "application/vnd.jupyter.widget-view+json": {
       "model_id": "4824287e724e4b70930ba8ab60e6a07a",
       "version_major": 2,
       "version_minor": 0
      },
      "text/plain": [
       "Prosit_2019_intensity::   0%|          | 0/1 [00:00<?, ?it/s]"
      ]
     },
     "metadata": {},
     "output_type": "display_data"
    },
    {
     "data": {
      "application/vnd.jupyter.widget-view+json": {
       "model_id": "c2b8dbd5c14c4bd6adc5a5c2ea0e7d0b",
       "version_major": 2,
       "version_minor": 0
      },
      "text/plain": [
       "Prosit_2019_intensity::   0%|          | 0/1 [00:00<?, ?it/s]"
      ]
     },
     "metadata": {},
     "output_type": "display_data"
    },
    {
     "data": {
      "application/vnd.jupyter.widget-view+json": {
       "model_id": "c15fbc15dc094960bb71302ea136250c",
       "version_major": 2,
       "version_minor": 0
      },
      "text/plain": [
       "Prosit_2019_intensity::   0%|          | 0/1 [00:00<?, ?it/s]"
      ]
     },
     "metadata": {},
     "output_type": "display_data"
    },
    {
     "data": {
      "application/vnd.jupyter.widget-view+json": {
       "model_id": "6f4550b9e0694139870f9fd2b03b7b2f",
       "version_major": 2,
       "version_minor": 0
      },
      "text/plain": [
       "Prosit_2019_intensity::   0%|          | 0/1 [00:00<?, ?it/s]"
      ]
     },
     "metadata": {},
     "output_type": "display_data"
    },
    {
     "data": {
      "application/vnd.jupyter.widget-view+json": {
       "model_id": "8d7bab12862141cd9f9f496112d35142",
       "version_major": 2,
       "version_minor": 0
      },
      "text/plain": [
       "Prosit_2019_intensity::   0%|          | 0/1 [00:00<?, ?it/s]"
      ]
     },
     "metadata": {},
     "output_type": "display_data"
    },
    {
     "data": {
      "application/vnd.jupyter.widget-view+json": {
       "model_id": "14599aaf4c1f45aba254402e393a3165",
       "version_major": 2,
       "version_minor": 0
      },
      "text/plain": [
       "Prosit_2019_intensity::   0%|          | 0/1 [00:00<?, ?it/s]"
      ]
     },
     "metadata": {},
     "output_type": "display_data"
    },
    {
     "data": {
      "application/vnd.jupyter.widget-view+json": {
       "model_id": "2f4ce4629c4b4f94aef744dcbc9d0f0d",
       "version_major": 2,
       "version_minor": 0
      },
      "text/plain": [
       "Prosit_2019_intensity::   0%|          | 0/1 [00:00<?, ?it/s]"
      ]
     },
     "metadata": {},
     "output_type": "display_data"
    },
    {
     "data": {
      "application/vnd.jupyter.widget-view+json": {
       "model_id": "84091f6c25284e77ad1e46522854fc16",
       "version_major": 2,
       "version_minor": 0
      },
      "text/plain": [
       "Prosit_2019_intensity::   0%|          | 0/1 [00:00<?, ?it/s]"
      ]
     },
     "metadata": {},
     "output_type": "display_data"
    },
    {
     "data": {
      "application/vnd.jupyter.widget-view+json": {
       "model_id": "529a395839fd4219b5966c8f6ab7b487",
       "version_major": 2,
       "version_minor": 0
      },
      "text/plain": [
       "Prosit_2019_intensity::   0%|          | 0/1 [00:00<?, ?it/s]"
      ]
     },
     "metadata": {},
     "output_type": "display_data"
    },
    {
     "data": {
      "image/png": "[encoded data removed]",
      "text/plain": [
       "<Figure size 800x650 with 3 Axes>"
      ]
     },
     "metadata": {},
     "output_type": "display_data"
    }
   ],
   "source": [
    "local_explanation(\"AADCISIPRNR\", 2, 0.3, ion=ion, samp=100)"
   ]
  },
  {
   "cell_type": "code",
   "execution_count": 85,
   "id": "0b714962-a037-4fd5-b3e7-d9573a7a6386",
   "metadata": {},
   "outputs": [
    {
     "data": {
      "application/vnd.jupyter.widget-view+json": {
       "model_id": "90608b371e3e4ef9909343fbf816192e",
       "version_major": 2,
       "version_minor": 0
      },
      "text/plain": [
       "Prosit_2019_intensity::   0%|          | 0/1 [00:00<?, ?it/s]"
      ]
     },
     "metadata": {},
     "output_type": "display_data"
    },
    {
     "data": {
      "application/vnd.jupyter.widget-view+json": {
       "model_id": "5cc4001d90c042cf8fea88203649eea3",
       "version_major": 2,
       "version_minor": 0
      },
      "text/plain": [
       "Prosit_2019_intensity::   0%|          | 0/1 [00:00<?, ?it/s]"
      ]
     },
     "metadata": {},
     "output_type": "display_data"
    },
    {
     "data": {
      "application/vnd.jupyter.widget-view+json": {
       "model_id": "6e07d5955a214094bc936045255735ff",
       "version_major": 2,
       "version_minor": 0
      },
      "text/plain": [
       "Prosit_2019_intensity::   0%|          | 0/1 [00:00<?, ?it/s]"
      ]
     },
     "metadata": {},
     "output_type": "display_data"
    },
    {
     "data": {
      "application/vnd.jupyter.widget-view+json": {
       "model_id": "219b4e3b7ffa47ce9b93e66313e6f95e",
       "version_major": 2,
       "version_minor": 0
      },
      "text/plain": [
       "Prosit_2019_intensity::   0%|          | 0/1 [00:00<?, ?it/s]"
      ]
     },
     "metadata": {},
     "output_type": "display_data"
    },
    {
     "data": {
      "application/vnd.jupyter.widget-view+json": {
       "model_id": "e7b5175ab52248a68e3a7a9da72f6978",
       "version_major": 2,
       "version_minor": 0
      },
      "text/plain": [
       "  0%|          | 0/1 [00:00<?, ?it/s]"
      ]
     },
     "metadata": {},
     "output_type": "display_data"
    },
    {
     "data": {
      "application/vnd.jupyter.widget-view+json": {
       "model_id": "72fa9a9349474c6aa56e5e91ea454f59",
       "version_major": 2,
       "version_minor": 0
      },
      "text/plain": [
       "Prosit_2019_intensity::   0%|          | 0/1 [00:00<?, ?it/s]"
      ]
     },
     "metadata": {},
     "output_type": "display_data"
    },
    {
     "data": {
      "application/vnd.jupyter.widget-view+json": {
       "model_id": "bfe668d896fb44599ff19b6f1d0704a7",
       "version_major": 2,
       "version_minor": 0
      },
      "text/plain": [
       "Prosit_2019_intensity::   0%|          | 0/1 [00:00<?, ?it/s]"
      ]
     },
     "metadata": {},
     "output_type": "display_data"
    },
    {
     "data": {
      "application/vnd.jupyter.widget-view+json": {
       "model_id": "66bf69b8b36b4e409d6fa3df21f5faf1",
       "version_major": 2,
       "version_minor": 0
      },
      "text/plain": [
       "Prosit_2019_intensity::   0%|          | 0/1 [00:00<?, ?it/s]"
      ]
     },
     "metadata": {},
     "output_type": "display_data"
    },
    {
     "data": {
      "application/vnd.jupyter.widget-view+json": {
       "model_id": "06b9e92d8e564bc2bff3e51526ec9387",
       "version_major": 2,
       "version_minor": 0
      },
      "text/plain": [
       "Prosit_2019_intensity::   0%|          | 0/1 [00:00<?, ?it/s]"
      ]
     },
     "metadata": {},
     "output_type": "display_data"
    },
    {
     "data": {
      "application/vnd.jupyter.widget-view+json": {
       "model_id": "83b9ce9c40424df1a4733c994354be84",
       "version_major": 2,
       "version_minor": 0
      },
      "text/plain": [
       "Prosit_2019_intensity::   0%|          | 0/1 [00:00<?, ?it/s]"
      ]
     },
     "metadata": {},
     "output_type": "display_data"
    },
    {
     "data": {
      "application/vnd.jupyter.widget-view+json": {
       "model_id": "64c6ef2cd3ba4fdd821271cc1a4ba660",
       "version_major": 2,
       "version_minor": 0
      },
      "text/plain": [
       "Prosit_2019_intensity::   0%|          | 0/1 [00:00<?, ?it/s]"
      ]
     },
     "metadata": {},
     "output_type": "display_data"
    },
    {
     "data": {
      "application/vnd.jupyter.widget-view+json": {
       "model_id": "45cfb4342cad4a1787b8532c1a364fb1",
       "version_major": 2,
       "version_minor": 0
      },
      "text/plain": [
       "Prosit_2019_intensity::   0%|          | 0/1 [00:00<?, ?it/s]"
      ]
     },
     "metadata": {},
     "output_type": "display_data"
    },
    {
     "data": {
      "application/vnd.jupyter.widget-view+json": {
       "model_id": "85ef2d6d1dc44f11af0864b4f746e67e",
       "version_major": 2,
       "version_minor": 0
      },
      "text/plain": [
       "Prosit_2019_intensity::   0%|          | 0/1 [00:00<?, ?it/s]"
      ]
     },
     "metadata": {},
     "output_type": "display_data"
    },
    {
     "data": {
      "application/vnd.jupyter.widget-view+json": {
       "model_id": "68001c1e29f1473c8990b16195005c8f",
       "version_major": 2,
       "version_minor": 0
      },
      "text/plain": [
       "Prosit_2019_intensity::   0%|          | 0/1 [00:00<?, ?it/s]"
      ]
     },
     "metadata": {},
     "output_type": "display_data"
    },
    {
     "data": {
      "application/vnd.jupyter.widget-view+json": {
       "model_id": "c3e814ac3ccf4cbe9b3c3f90bee1d566",
       "version_major": 2,
       "version_minor": 0
      },
      "text/plain": [
       "Prosit_2019_intensity::   0%|          | 0/1 [00:00<?, ?it/s]"
      ]
     },
     "metadata": {},
     "output_type": "display_data"
    },
    {
     "data": {
      "application/vnd.jupyter.widget-view+json": {
       "model_id": "65cf880f6bed4774ab3dbeefb683e98b",
       "version_major": 2,
       "version_minor": 0
      },
      "text/plain": [
       "Prosit_2019_intensity::   0%|          | 0/1 [00:00<?, ?it/s]"
      ]
     },
     "metadata": {},
     "output_type": "display_data"
    },
    {
     "data": {
      "image/png": "[encoded data removed]",
      "text/plain": [
       "<Figure size 800x650 with 3 Axes>"
      ]
     },
     "execution_count": 85,
     "metadata": {},
     "output_type": "execute_result"
    }
   ],
   "source": [
    "local_explanation(\"AADCISIPVNR\", 2, 0.3, ion='b3+1', samp=100)"
   ]
  },
  {
   "cell_type": "code",
   "execution_count": 86,
   "id": "54fb57fb-ded3-47bf-93db-1b8dc646480d",
   "metadata": {},
   "outputs": [
    {
     "data": {
      "application/vnd.jupyter.widget-view+json": {
       "model_id": "ef59755d52fc468f9aecc1033a573f53",
       "version_major": 2,
       "version_minor": 0
      },
      "text/plain": [
       "Prosit_2019_intensity::   0%|          | 0/1 [00:00<?, ?it/s]"
      ]
     },
     "metadata": {},
     "output_type": "display_data"
    },
    {
     "data": {
      "application/vnd.jupyter.widget-view+json": {
       "model_id": "1d7cb5dfa7ae4209b782999608fc2d59",
       "version_major": 2,
       "version_minor": 0
      },
      "text/plain": [
       "Prosit_2019_intensity::   0%|          | 0/1 [00:00<?, ?it/s]"
      ]
     },
     "metadata": {},
     "output_type": "display_data"
    },
    {
     "data": {
      "application/vnd.jupyter.widget-view+json": {
       "model_id": "7e28d7cae0be4f1a85501fae9f7856b9",
       "version_major": 2,
       "version_minor": 0
      },
      "text/plain": [
       "Prosit_2019_intensity::   0%|          | 0/1 [00:00<?, ?it/s]"
      ]
     },
     "metadata": {},
     "output_type": "display_data"
    },
    {
     "data": {
      "application/vnd.jupyter.widget-view+json": {
       "model_id": "d7f127350d6c466cb29a7f0f21ab4f1f",
       "version_major": 2,
       "version_minor": 0
      },
      "text/plain": [
       "Prosit_2019_intensity::   0%|          | 0/1 [00:00<?, ?it/s]"
      ]
     },
     "metadata": {},
     "output_type": "display_data"
    },
    {
     "data": {
      "application/vnd.jupyter.widget-view+json": {
       "model_id": "dabafb6503ce4d5b8a611966074b7f75",
       "version_major": 2,
       "version_minor": 0
      },
      "text/plain": [
       "  0%|          | 0/1 [00:00<?, ?it/s]"
      ]
     },
     "metadata": {},
     "output_type": "display_data"
    },
    {
     "data": {
      "application/vnd.jupyter.widget-view+json": {
       "model_id": "0c29d9420297467bba86eae853e59912",
       "version_major": 2,
       "version_minor": 0
      },
      "text/plain": [
       "Prosit_2019_intensity::   0%|          | 0/1 [00:00<?, ?it/s]"
      ]
     },
     "metadata": {},
     "output_type": "display_data"
    },
    {
     "data": {
      "application/vnd.jupyter.widget-view+json": {
       "model_id": "a5d5be46ed8b405ab58e1d22406b3882",
       "version_major": 2,
       "version_minor": 0
      },
      "text/plain": [
       "Prosit_2019_intensity::   0%|          | 0/1 [00:00<?, ?it/s]"
      ]
     },
     "metadata": {},
     "output_type": "display_data"
    },
    {
     "data": {
      "application/vnd.jupyter.widget-view+json": {
       "model_id": "8bbddd14accb45f085eb66f89792b667",
       "version_major": 2,
       "version_minor": 0
      },
      "text/plain": [
       "Prosit_2019_intensity::   0%|          | 0/1 [00:00<?, ?it/s]"
      ]
     },
     "metadata": {},
     "output_type": "display_data"
    },
    {
     "data": {
      "application/vnd.jupyter.widget-view+json": {
       "model_id": "25f3fcc6a5dc41338f584ecdc52b5ca7",
       "version_major": 2,
       "version_minor": 0
      },
      "text/plain": [
       "Prosit_2019_intensity::   0%|          | 0/1 [00:00<?, ?it/s]"
      ]
     },
     "metadata": {},
     "output_type": "display_data"
    },
    {
     "data": {
      "application/vnd.jupyter.widget-view+json": {
       "model_id": "99b93aab8867434c95408f91bd005935",
       "version_major": 2,
       "version_minor": 0
      },
      "text/plain": [
       "Prosit_2019_intensity::   0%|          | 0/1 [00:00<?, ?it/s]"
      ]
     },
     "metadata": {},
     "output_type": "display_data"
    },
    {
     "data": {
      "application/vnd.jupyter.widget-view+json": {
       "model_id": "9e4bf1b49b7d459ea3fb61c7b894cea3",
       "version_major": 2,
       "version_minor": 0
      },
      "text/plain": [
       "Prosit_2019_intensity::   0%|          | 0/1 [00:00<?, ?it/s]"
      ]
     },
     "metadata": {},
     "output_type": "display_data"
    },
    {
     "data": {
      "application/vnd.jupyter.widget-view+json": {
       "model_id": "e1a85a97d41e4f33b1ff5c017b28c2f7",
       "version_major": 2,
       "version_minor": 0
      },
      "text/plain": [
       "Prosit_2019_intensity::   0%|          | 0/1 [00:00<?, ?it/s]"
      ]
     },
     "metadata": {},
     "output_type": "display_data"
    },
    {
     "data": {
      "application/vnd.jupyter.widget-view+json": {
       "model_id": "cf776643dac445deaaa430145dafc643",
       "version_major": 2,
       "version_minor": 0
      },
      "text/plain": [
       "Prosit_2019_intensity::   0%|          | 0/1 [00:00<?, ?it/s]"
      ]
     },
     "metadata": {},
     "output_type": "display_data"
    },
    {
     "data": {
      "application/vnd.jupyter.widget-view+json": {
       "model_id": "7504210ea91a43eca250b6ef3015f7d6",
       "version_major": 2,
       "version_minor": 0
      },
      "text/plain": [
       "Prosit_2019_intensity::   0%|          | 0/1 [00:00<?, ?it/s]"
      ]
     },
     "metadata": {},
     "output_type": "display_data"
    },
    {
     "data": {
      "application/vnd.jupyter.widget-view+json": {
       "model_id": "383dde8eba3949ae8dd5a5bf81f42e94",
       "version_major": 2,
       "version_minor": 0
      },
      "text/plain": [
       "Prosit_2019_intensity::   0%|          | 0/1 [00:00<?, ?it/s]"
      ]
     },
     "metadata": {},
     "output_type": "display_data"
    },
    {
     "data": {
      "application/vnd.jupyter.widget-view+json": {
       "model_id": "7da572ec75764473824ddc239d724e1b",
       "version_major": 2,
       "version_minor": 0
      },
      "text/plain": [
       "Prosit_2019_intensity::   0%|          | 0/1 [00:00<?, ?it/s]"
      ]
     },
     "metadata": {},
     "output_type": "display_data"
    },
    {
     "data": {
      "image/png": "[encoded data removed]",
      "text/plain": [
       "<Figure size 800x650 with 3 Axes>"
      ]
     },
     "execution_count": 86,
     "metadata": {},
     "output_type": "execute_result"
    }
   ],
   "source": [
    "local_explanation(\"RADCISIPVNR\", 2, 0.3, ion='b3+1', samp=100)"
   ]
  },
  {
   "cell_type": "code",
   "execution_count": 89,
   "id": "34ac2168-b501-4efe-87fb-942f5db4fe6d",
   "metadata": {},
   "outputs": [
    {
     "data": {
      "application/vnd.jupyter.widget-view+json": {
       "model_id": "ca0c9300c8ba48da8c816dd1445f2348",
       "version_major": 2,
       "version_minor": 0
      },
      "text/plain": [
       "Prosit_2019_intensity::   0%|          | 0/1 [00:00<?, ?it/s]"
      ]
     },
     "metadata": {},
     "output_type": "display_data"
    },
    {
     "data": {
      "application/vnd.jupyter.widget-view+json": {
       "model_id": "479f34f4b3c74f3496656c28dfc57187",
       "version_major": 2,
       "version_minor": 0
      },
      "text/plain": [
       "Prosit_2019_intensity::   0%|          | 0/1 [00:00<?, ?it/s]"
      ]
     },
     "metadata": {},
     "output_type": "display_data"
    },
    {
     "data": {
      "application/vnd.jupyter.widget-view+json": {
       "model_id": "bd2dba08079549509d2531738b89b4d1",
       "version_major": 2,
       "version_minor": 0
      },
      "text/plain": [
       "Prosit_2019_intensity::   0%|          | 0/1 [00:00<?, ?it/s]"
      ]
     },
     "metadata": {},
     "output_type": "display_data"
    },
    {
     "data": {
      "application/vnd.jupyter.widget-view+json": {
       "model_id": "b44171b8cb5f457e822e42522cd3077e",
       "version_major": 2,
       "version_minor": 0
      },
      "text/plain": [
       "Prosit_2019_intensity::   0%|          | 0/1 [00:00<?, ?it/s]"
      ]
     },
     "metadata": {},
     "output_type": "display_data"
    },
    {
     "data": {
      "application/vnd.jupyter.widget-view+json": {
       "model_id": "136b10bd1f454eb3be17b27ae443ae72",
       "version_major": 2,
       "version_minor": 0
      },
      "text/plain": [
       "  0%|          | 0/1 [00:00<?, ?it/s]"
      ]
     },
     "metadata": {},
     "output_type": "display_data"
    },
    {
     "data": {
      "application/vnd.jupyter.widget-view+json": {
       "model_id": "f2b45c129f2d420d9ed7122da275b319",
       "version_major": 2,
       "version_minor": 0
      },
      "text/plain": [
       "Prosit_2019_intensity::   0%|          | 0/1 [00:00<?, ?it/s]"
      ]
     },
     "metadata": {},
     "output_type": "display_data"
    },
    {
     "data": {
      "application/vnd.jupyter.widget-view+json": {
       "model_id": "25b409442a5844b19ee6694da46bfe77",
       "version_major": 2,
       "version_minor": 0
      },
      "text/plain": [
       "Prosit_2019_intensity::   0%|          | 0/1 [00:00<?, ?it/s]"
      ]
     },
     "metadata": {},
     "output_type": "display_data"
    },
    {
     "data": {
      "application/vnd.jupyter.widget-view+json": {
       "model_id": "974cd4e3ecd348a384b4da1f58df22aa",
       "version_major": 2,
       "version_minor": 0
      },
      "text/plain": [
       "Prosit_2019_intensity::   0%|          | 0/1 [00:00<?, ?it/s]"
      ]
     },
     "metadata": {},
     "output_type": "display_data"
    },
    {
     "data": {
      "application/vnd.jupyter.widget-view+json": {
       "model_id": "bb073a67507d4e82b1ebdeb03227191d",
       "version_major": 2,
       "version_minor": 0
      },
      "text/plain": [
       "Prosit_2019_intensity::   0%|          | 0/1 [00:00<?, ?it/s]"
      ]
     },
     "metadata": {},
     "output_type": "display_data"
    },
    {
     "data": {
      "application/vnd.jupyter.widget-view+json": {
       "model_id": "9bc4318661b540cb9da298517718642a",
       "version_major": 2,
       "version_minor": 0
      },
      "text/plain": [
       "Prosit_2019_intensity::   0%|          | 0/1 [00:00<?, ?it/s]"
      ]
     },
     "metadata": {},
     "output_type": "display_data"
    },
    {
     "data": {
      "application/vnd.jupyter.widget-view+json": {
       "model_id": "9c4abf79afd649248f4369158bd3023a",
       "version_major": 2,
       "version_minor": 0
      },
      "text/plain": [
       "Prosit_2019_intensity::   0%|          | 0/1 [00:00<?, ?it/s]"
      ]
     },
     "metadata": {},
     "output_type": "display_data"
    },
    {
     "data": {
      "application/vnd.jupyter.widget-view+json": {
       "model_id": "e455da6510f44c90b41a21e97d1301fa",
       "version_major": 2,
       "version_minor": 0
      },
      "text/plain": [
       "Prosit_2019_intensity::   0%|          | 0/1 [00:00<?, ?it/s]"
      ]
     },
     "metadata": {},
     "output_type": "display_data"
    },
    {
     "data": {
      "application/vnd.jupyter.widget-view+json": {
       "model_id": "f09c3e334eb84516933ad2f6e729de91",
       "version_major": 2,
       "version_minor": 0
      },
      "text/plain": [
       "Prosit_2019_intensity::   0%|          | 0/1 [00:00<?, ?it/s]"
      ]
     },
     "metadata": {},
     "output_type": "display_data"
    },
    {
     "data": {
      "application/vnd.jupyter.widget-view+json": {
       "model_id": "716e88b039ff4edab1da6d8422383c94",
       "version_major": 2,
       "version_minor": 0
      },
      "text/plain": [
       "Prosit_2019_intensity::   0%|          | 0/1 [00:00<?, ?it/s]"
      ]
     },
     "metadata": {},
     "output_type": "display_data"
    },
    {
     "data": {
      "application/vnd.jupyter.widget-view+json": {
       "model_id": "e241945b719d4d99a353b5eea16684f2",
       "version_major": 2,
       "version_minor": 0
      },
      "text/plain": [
       "Prosit_2019_intensity::   0%|          | 0/1 [00:00<?, ?it/s]"
      ]
     },
     "metadata": {},
     "output_type": "display_data"
    },
    {
     "data": {
      "application/vnd.jupyter.widget-view+json": {
       "model_id": "3b541036412748898fffc234f2cfd354",
       "version_major": 2,
       "version_minor": 0
      },
      "text/plain": [
       "Prosit_2019_intensity::   0%|          | 0/1 [00:00<?, ?it/s]"
      ]
     },
     "metadata": {},
     "output_type": "display_data"
    },
    {
     "data": {
      "image/png": "[encoded data removed]",
      "text/plain": [
       "<Figure size 800x650 with 3 Axes>"
      ]
     },
     "execution_count": 89,
     "metadata": {},
     "output_type": "execute_result"
    }
   ],
   "source": [
    "local_explanation(\"ARDCISIPVNR\", 2, 0.3, ion='b3+1', samp=100)"
   ]
  },
  {
   "cell_type": "code",
   "execution_count": 90,
   "id": "58afdcd0-11c7-4ac3-8c19-36fafbfe5850",
   "metadata": {},
   "outputs": [
    {
     "data": {
      "application/vnd.jupyter.widget-view+json": {
       "model_id": "d4ed59a2be654a889d3781c2c5b0f1e8",
       "version_major": 2,
       "version_minor": 0
      },
      "text/plain": [
       "Prosit_2019_intensity::   0%|          | 0/1 [00:00<?, ?it/s]"
      ]
     },
     "metadata": {},
     "output_type": "display_data"
    },
    {
     "data": {
      "application/vnd.jupyter.widget-view+json": {
       "model_id": "ee71542b66c14641bc6aedd475e39642",
       "version_major": 2,
       "version_minor": 0
      },
      "text/plain": [
       "Prosit_2019_intensity::   0%|          | 0/1 [00:00<?, ?it/s]"
      ]
     },
     "metadata": {},
     "output_type": "display_data"
    },
    {
     "data": {
      "application/vnd.jupyter.widget-view+json": {
       "model_id": "107b7f06b16c464491e1837ba1c59814",
       "version_major": 2,
       "version_minor": 0
      },
      "text/plain": [
       "Prosit_2019_intensity::   0%|          | 0/1 [00:00<?, ?it/s]"
      ]
     },
     "metadata": {},
     "output_type": "display_data"
    },
    {
     "data": {
      "application/vnd.jupyter.widget-view+json": {
       "model_id": "033d80fabc3d4ccba4947b8ddceebc55",
       "version_major": 2,
       "version_minor": 0
      },
      "text/plain": [
       "Prosit_2019_intensity::   0%|          | 0/1 [00:00<?, ?it/s]"
      ]
     },
     "metadata": {},
     "output_type": "display_data"
    },
    {
     "data": {
      "application/vnd.jupyter.widget-view+json": {
       "model_id": "86336102aed044bc829779da78defd57",
       "version_major": 2,
       "version_minor": 0
      },
      "text/plain": [
       "  0%|          | 0/1 [00:00<?, ?it/s]"
      ]
     },
     "metadata": {},
     "output_type": "display_data"
    },
    {
     "data": {
      "application/vnd.jupyter.widget-view+json": {
       "model_id": "93bc93ab5fe242b7bd522d4161757b86",
       "version_major": 2,
       "version_minor": 0
      },
      "text/plain": [
       "Prosit_2019_intensity::   0%|          | 0/1 [00:00<?, ?it/s]"
      ]
     },
     "metadata": {},
     "output_type": "display_data"
    },
    {
     "data": {
      "application/vnd.jupyter.widget-view+json": {
       "model_id": "f7c74f566d684b6192add731532d5be4",
       "version_major": 2,
       "version_minor": 0
      },
      "text/plain": [
       "Prosit_2019_intensity::   0%|          | 0/1 [00:00<?, ?it/s]"
      ]
     },
     "metadata": {},
     "output_type": "display_data"
    },
    {
     "data": {
      "application/vnd.jupyter.widget-view+json": {
       "model_id": "4f53e32a5020478c9f4f59a4fa54225b",
       "version_major": 2,
       "version_minor": 0
      },
      "text/plain": [
       "Prosit_2019_intensity::   0%|          | 0/1 [00:00<?, ?it/s]"
      ]
     },
     "metadata": {},
     "output_type": "display_data"
    },
    {
     "data": {
      "application/vnd.jupyter.widget-view+json": {
       "model_id": "08f8896542f14e599ba52ac0c6dd544d",
       "version_major": 2,
       "version_minor": 0
      },
      "text/plain": [
       "Prosit_2019_intensity::   0%|          | 0/1 [00:00<?, ?it/s]"
      ]
     },
     "metadata": {},
     "output_type": "display_data"
    },
    {
     "data": {
      "application/vnd.jupyter.widget-view+json": {
       "model_id": "dd226198a7f74571bf05f88a2e83814a",
       "version_major": 2,
       "version_minor": 0
      },
      "text/plain": [
       "Prosit_2019_intensity::   0%|          | 0/1 [00:00<?, ?it/s]"
      ]
     },
     "metadata": {},
     "output_type": "display_data"
    },
    {
     "data": {
      "application/vnd.jupyter.widget-view+json": {
       "model_id": "8055d460c6a24f808db741e2e63b2cbf",
       "version_major": 2,
       "version_minor": 0
      },
      "text/plain": [
       "Prosit_2019_intensity::   0%|          | 0/1 [00:00<?, ?it/s]"
      ]
     },
     "metadata": {},
     "output_type": "display_data"
    },
    {
     "data": {
      "application/vnd.jupyter.widget-view+json": {
       "model_id": "b59d4bc75dca43318501fad8ac1ca68c",
       "version_major": 2,
       "version_minor": 0
      },
      "text/plain": [
       "Prosit_2019_intensity::   0%|          | 0/1 [00:00<?, ?it/s]"
      ]
     },
     "metadata": {},
     "output_type": "display_data"
    },
    {
     "data": {
      "application/vnd.jupyter.widget-view+json": {
       "model_id": "aecdda175a704ddd9a259ba60910c704",
       "version_major": 2,
       "version_minor": 0
      },
      "text/plain": [
       "Prosit_2019_intensity::   0%|          | 0/1 [00:00<?, ?it/s]"
      ]
     },
     "metadata": {},
     "output_type": "display_data"
    },
    {
     "data": {
      "application/vnd.jupyter.widget-view+json": {
       "model_id": "0db41518cd6a46adbd66e1ca032e308e",
       "version_major": 2,
       "version_minor": 0
      },
      "text/plain": [
       "Prosit_2019_intensity::   0%|          | 0/1 [00:00<?, ?it/s]"
      ]
     },
     "metadata": {},
     "output_type": "display_data"
    },
    {
     "data": {
      "application/vnd.jupyter.widget-view+json": {
       "model_id": "0fa6dc09d2594bc7bfbbcd820026b6af",
       "version_major": 2,
       "version_minor": 0
      },
      "text/plain": [
       "Prosit_2019_intensity::   0%|          | 0/1 [00:00<?, ?it/s]"
      ]
     },
     "metadata": {},
     "output_type": "display_data"
    },
    {
     "data": {
      "application/vnd.jupyter.widget-view+json": {
       "model_id": "7ea9907edb6f49acbc57492ffb612613",
       "version_major": 2,
       "version_minor": 0
      },
      "text/plain": [
       "Prosit_2019_intensity::   0%|          | 0/1 [00:00<?, ?it/s]"
      ]
     },
     "metadata": {},
     "output_type": "display_data"
    },
    {
     "data": {
      "image/png": "[encoded data removed]",
      "text/plain": [
       "<Figure size 800x650 with 3 Axes>"
      ]
     },
     "execution_count": 90,
     "metadata": {},
     "output_type": "execute_result"
    }
   ],
   "source": [
    "local_explanation(\"AADRISIPVNR\", 2, 0.3, ion='b3+1', samp=100)"
   ]
  },
  {
   "cell_type": "code",
   "execution_count": 88,
   "id": "ab0bb97c-e678-4d56-b37f-df5b2099786e",
   "metadata": {},
   "outputs": [
    {
     "data": {
      "application/vnd.jupyter.widget-view+json": {
       "model_id": "21ec4d6463fe4df58d429c462cd63bd2",
       "version_major": 2,
       "version_minor": 0
      },
      "text/plain": [
       "Prosit_2019_intensity::   0%|          | 0/1 [00:00<?, ?it/s]"
      ]
     },
     "metadata": {},
     "output_type": "display_data"
    },
    {
     "data": {
      "application/vnd.jupyter.widget-view+json": {
       "model_id": "fce9d97ad41f4076838b921e49091428",
       "version_major": 2,
       "version_minor": 0
      },
      "text/plain": [
       "Prosit_2019_intensity::   0%|          | 0/1 [00:00<?, ?it/s]"
      ]
     },
     "metadata": {},
     "output_type": "display_data"
    },
    {
     "data": {
      "application/vnd.jupyter.widget-view+json": {
       "model_id": "c4a5d55d6a744f00a0fb290e764a94e6",
       "version_major": 2,
       "version_minor": 0
      },
      "text/plain": [
       "Prosit_2019_intensity::   0%|          | 0/1 [00:00<?, ?it/s]"
      ]
     },
     "metadata": {},
     "output_type": "display_data"
    },
    {
     "data": {
      "application/vnd.jupyter.widget-view+json": {
       "model_id": "412ee1fefdd2422fbb1a30ed4eab10f3",
       "version_major": 2,
       "version_minor": 0
      },
      "text/plain": [
       "Prosit_2019_intensity::   0%|          | 0/1 [00:00<?, ?it/s]"
      ]
     },
     "metadata": {},
     "output_type": "display_data"
    },
    {
     "data": {
      "application/vnd.jupyter.widget-view+json": {
       "model_id": "3ad4ac60e63345b5bcc01c2a80458f4d",
       "version_major": 2,
       "version_minor": 0
      },
      "text/plain": [
       "  0%|          | 0/1 [00:00<?, ?it/s]"
      ]
     },
     "metadata": {},
     "output_type": "display_data"
    },
    {
     "data": {
      "application/vnd.jupyter.widget-view+json": {
       "model_id": "3923236bd80a427d9b3f35671c33af83",
       "version_major": 2,
       "version_minor": 0
      },
      "text/plain": [
       "Prosit_2019_intensity::   0%|          | 0/1 [00:00<?, ?it/s]"
      ]
     },
     "metadata": {},
     "output_type": "display_data"
    },
    {
     "data": {
      "application/vnd.jupyter.widget-view+json": {
       "model_id": "72eb6ad54e044184a8ecef51fd82264d",
       "version_major": 2,
       "version_minor": 0
      },
      "text/plain": [
       "Prosit_2019_intensity::   0%|          | 0/1 [00:00<?, ?it/s]"
      ]
     },
     "metadata": {},
     "output_type": "display_data"
    },
    {
     "data": {
      "application/vnd.jupyter.widget-view+json": {
       "model_id": "1596881b3bb549ce8ec2ea28b3e37761",
       "version_major": 2,
       "version_minor": 0
      },
      "text/plain": [
       "Prosit_2019_intensity::   0%|          | 0/1 [00:00<?, ?it/s]"
      ]
     },
     "metadata": {},
     "output_type": "display_data"
    },
    {
     "data": {
      "application/vnd.jupyter.widget-view+json": {
       "model_id": "82895f9467a4403c9c2fd6971d3c90cc",
       "version_major": 2,
       "version_minor": 0
      },
      "text/plain": [
       "Prosit_2019_intensity::   0%|          | 0/1 [00:00<?, ?it/s]"
      ]
     },
     "metadata": {},
     "output_type": "display_data"
    },
    {
     "data": {
      "application/vnd.jupyter.widget-view+json": {
       "model_id": "56f4331b45034f4eba1b820396840e30",
       "version_major": 2,
       "version_minor": 0
      },
      "text/plain": [
       "Prosit_2019_intensity::   0%|          | 0/1 [00:00<?, ?it/s]"
      ]
     },
     "metadata": {},
     "output_type": "display_data"
    },
    {
     "data": {
      "application/vnd.jupyter.widget-view+json": {
       "model_id": "4b74f1a8f83e44c4a479e6854d3d7b3f",
       "version_major": 2,
       "version_minor": 0
      },
      "text/plain": [
       "Prosit_2019_intensity::   0%|          | 0/1 [00:00<?, ?it/s]"
      ]
     },
     "metadata": {},
     "output_type": "display_data"
    },
    {
     "data": {
      "application/vnd.jupyter.widget-view+json": {
       "model_id": "ed40400bd0f64155ab8f55754ce0168f",
       "version_major": 2,
       "version_minor": 0
      },
      "text/plain": [
       "Prosit_2019_intensity::   0%|          | 0/1 [00:00<?, ?it/s]"
      ]
     },
     "metadata": {},
     "output_type": "display_data"
    },
    {
     "data": {
      "application/vnd.jupyter.widget-view+json": {
       "model_id": "803a511f994e4ef882f1c6d8bb0d0733",
       "version_major": 2,
       "version_minor": 0
      },
      "text/plain": [
       "Prosit_2019_intensity::   0%|          | 0/1 [00:00<?, ?it/s]"
      ]
     },
     "metadata": {},
     "output_type": "display_data"
    },
    {
     "data": {
      "application/vnd.jupyter.widget-view+json": {
       "model_id": "765d9902ecf74975ba932e35d2a8c8df",
       "version_major": 2,
       "version_minor": 0
      },
      "text/plain": [
       "Prosit_2019_intensity::   0%|          | 0/1 [00:00<?, ?it/s]"
      ]
     },
     "metadata": {},
     "output_type": "display_data"
    },
    {
     "data": {
      "application/vnd.jupyter.widget-view+json": {
       "model_id": "83e16e729f9348499bdb8f53e1b186a8",
       "version_major": 2,
       "version_minor": 0
      },
      "text/plain": [
       "Prosit_2019_intensity::   0%|          | 0/1 [00:00<?, ?it/s]"
      ]
     },
     "metadata": {},
     "output_type": "display_data"
    },
    {
     "data": {
      "application/vnd.jupyter.widget-view+json": {
       "model_id": "97ca3b9843524e3a837a7bdb91a783fa",
       "version_major": 2,
       "version_minor": 0
      },
      "text/plain": [
       "Prosit_2019_intensity::   0%|          | 0/1 [00:00<?, ?it/s]"
      ]
     },
     "metadata": {},
     "output_type": "display_data"
    },
    {
     "data": {
      "image/png": "[encoded data removed]",
      "text/plain": [
       "<Figure size 800x650 with 3 Axes>"
      ]
     },
     "execution_count": 88,
     "metadata": {},
     "output_type": "execute_result"
    }
   ],
   "source": [
    "local_explanation(\"AADCIRIPVNR\", 2, 0.3, ion='b3+1', samp=100)"
   ]
  },
  {
   "cell_type": "code",
   "execution_count": 87,
   "id": "6b1af6b8-4aee-4a25-83dd-b5a9a28c4c81",
   "metadata": {},
   "outputs": [
    {
     "data": {
      "application/vnd.jupyter.widget-view+json": {
       "model_id": "b71a57cc52884d5daa8402179a80701e",
       "version_major": 2,
       "version_minor": 0
      },
      "text/plain": [
       "Prosit_2019_intensity::   0%|          | 0/1 [00:00<?, ?it/s]"
      ]
     },
     "metadata": {},
     "output_type": "display_data"
    },
    {
     "data": {
      "application/vnd.jupyter.widget-view+json": {
       "model_id": "82d8f88f8d1040d8b33950533cfe3cb3",
       "version_major": 2,
       "version_minor": 0
      },
      "text/plain": [
       "Prosit_2019_intensity::   0%|          | 0/1 [00:00<?, ?it/s]"
      ]
     },
     "metadata": {},
     "output_type": "display_data"
    },
    {
     "data": {
      "application/vnd.jupyter.widget-view+json": {
       "model_id": "de3a71314bd84174b1d5f313a933f9ac",
       "version_major": 2,
       "version_minor": 0
      },
      "text/plain": [
       "Prosit_2019_intensity::   0%|          | 0/1 [00:00<?, ?it/s]"
      ]
     },
     "metadata": {},
     "output_type": "display_data"
    },
    {
     "data": {
      "application/vnd.jupyter.widget-view+json": {
       "model_id": "6a88e42cae124aa39a5d387418411386",
       "version_major": 2,
       "version_minor": 0
      },
      "text/plain": [
       "Prosit_2019_intensity::   0%|          | 0/1 [00:00<?, ?it/s]"
      ]
     },
     "metadata": {},
     "output_type": "display_data"
    },
    {
     "data": {
      "application/vnd.jupyter.widget-view+json": {
       "model_id": "765f1bd66435442fb11de0357c17e86e",
       "version_major": 2,
       "version_minor": 0
      },
      "text/plain": [
       "  0%|          | 0/1 [00:00<?, ?it/s]"
      ]
     },
     "metadata": {},
     "output_type": "display_data"
    },
    {
     "data": {
      "application/vnd.jupyter.widget-view+json": {
       "model_id": "172ae96a170f4a5792e7c6eec4dab77e",
       "version_major": 2,
       "version_minor": 0
      },
      "text/plain": [
       "Prosit_2019_intensity::   0%|          | 0/1 [00:00<?, ?it/s]"
      ]
     },
     "metadata": {},
     "output_type": "display_data"
    },
    {
     "data": {
      "application/vnd.jupyter.widget-view+json": {
       "model_id": "975ab8d33fd74b1d9dea26a25e8bd908",
       "version_major": 2,
       "version_minor": 0
      },
      "text/plain": [
       "Prosit_2019_intensity::   0%|          | 0/1 [00:00<?, ?it/s]"
      ]
     },
     "metadata": {},
     "output_type": "display_data"
    },
    {
     "data": {
      "application/vnd.jupyter.widget-view+json": {
       "model_id": "f8e9c7de3f2f49acb11da10b524cb1ec",
       "version_major": 2,
       "version_minor": 0
      },
      "text/plain": [
       "Prosit_2019_intensity::   0%|          | 0/1 [00:00<?, ?it/s]"
      ]
     },
     "metadata": {},
     "output_type": "display_data"
    },
    {
     "data": {
      "application/vnd.jupyter.widget-view+json": {
       "model_id": "c7582f68a7724a9c9c567e5a96a025c0",
       "version_major": 2,
       "version_minor": 0
      },
      "text/plain": [
       "Prosit_2019_intensity::   0%|          | 0/1 [00:00<?, ?it/s]"
      ]
     },
     "metadata": {},
     "output_type": "display_data"
    },
    {
     "data": {
      "application/vnd.jupyter.widget-view+json": {
       "model_id": "c02a3f8fc65347258d253b259758935c",
       "version_major": 2,
       "version_minor": 0
      },
      "text/plain": [
       "Prosit_2019_intensity::   0%|          | 0/1 [00:00<?, ?it/s]"
      ]
     },
     "metadata": {},
     "output_type": "display_data"
    },
    {
     "data": {
      "application/vnd.jupyter.widget-view+json": {
       "model_id": "6db5e333072c4b65b0c0ab8abcbf51c4",
       "version_major": 2,
       "version_minor": 0
      },
      "text/plain": [
       "Prosit_2019_intensity::   0%|          | 0/1 [00:00<?, ?it/s]"
      ]
     },
     "metadata": {},
     "output_type": "display_data"
    },
    {
     "data": {
      "application/vnd.jupyter.widget-view+json": {
       "model_id": "cb5b5959dd364ef3b79de3b13d85c6fb",
       "version_major": 2,
       "version_minor": 0
      },
      "text/plain": [
       "Prosit_2019_intensity::   0%|          | 0/1 [00:00<?, ?it/s]"
      ]
     },
     "metadata": {},
     "output_type": "display_data"
    },
    {
     "data": {
      "application/vnd.jupyter.widget-view+json": {
       "model_id": "3402116efe0e4b0f8bc1218c8917df3a",
       "version_major": 2,
       "version_minor": 0
      },
      "text/plain": [
       "Prosit_2019_intensity::   0%|          | 0/1 [00:00<?, ?it/s]"
      ]
     },
     "metadata": {},
     "output_type": "display_data"
    },
    {
     "data": {
      "application/vnd.jupyter.widget-view+json": {
       "model_id": "0d5b7d2c19eb4f31a16388321e52f4b7",
       "version_major": 2,
       "version_minor": 0
      },
      "text/plain": [
       "Prosit_2019_intensity::   0%|          | 0/1 [00:00<?, ?it/s]"
      ]
     },
     "metadata": {},
     "output_type": "display_data"
    },
    {
     "data": {
      "application/vnd.jupyter.widget-view+json": {
       "model_id": "f6480ceaf3c44e0eaea112fbc06e9491",
       "version_major": 2,
       "version_minor": 0
      },
      "text/plain": [
       "Prosit_2019_intensity::   0%|          | 0/1 [00:00<?, ?it/s]"
      ]
     },
     "metadata": {},
     "output_type": "display_data"
    },
    {
     "data": {
      "application/vnd.jupyter.widget-view+json": {
       "model_id": "d842248e64864f4d8f0ab9d26d1b6f6e",
       "version_major": 2,
       "version_minor": 0
      },
      "text/plain": [
       "Prosit_2019_intensity::   0%|          | 0/1 [00:00<?, ?it/s]"
      ]
     },
     "metadata": {},
     "output_type": "display_data"
    },
    {
     "data": {
      "image/png": "[encoded data removed]",
      "text/plain": [
       "<Figure size 800x650 with 3 Axes>"
      ]
     },
     "execution_count": 87,
     "metadata": {},
     "output_type": "execute_result"
    }
   ],
   "source": [
    "local_explanation(\"AADCISIPRNR\", 2, 0.3, ion='b3+1', samp=100)"
   ]
  }
 ],
 "metadata": {
  "kernelspec": {
   "display_name": "Python 3 (ipykernel)",
   "language": "python",
   "name": "python3"
  },
  "language_info": {
   "codemirror_mode": {
    "name": "ipython",
    "version": 3
   },
   "file_extension": ".py",
   "mimetype": "text/x-python",
   "name": "python",
   "nbconvert_exporter": "python",
   "pygments_lexer": "ipython3",
   "version": "3.10.16"
  }
 },
 "nbformat": 4,
 "nbformat_minor": 5
}
