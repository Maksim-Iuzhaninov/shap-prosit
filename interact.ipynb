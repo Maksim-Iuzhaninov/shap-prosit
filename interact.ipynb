{
 "cells": [
  {
   "cell_type": "code",
   "execution_count": 1,
   "id": "e65f94ff-1b97-40a1-90a0-34c45b512ceb",
   "metadata": {},
   "outputs": [
    {
     "name": "stderr",
     "output_type": "stream",
     "text": [
      "2024-09-30 18:35:29.055216: E external/local_xla/xla/stream_executor/cuda/cuda_dnn.cc:9261] Unable to register cuDNN factory: Attempting to register factory for plugin cuDNN when one has already been registered\n",
      "2024-09-30 18:35:29.055267: E external/local_xla/xla/stream_executor/cuda/cuda_fft.cc:607] Unable to register cuFFT factory: Attempting to register factory for plugin cuFFT when one has already been registered\n",
      "2024-09-30 18:35:29.056995: E external/local_xla/xla/stream_executor/cuda/cuda_blas.cc:1515] Unable to register cuBLAS factory: Attempting to register factory for plugin cuBLAS when one has already been registered\n",
      "2024-09-30 18:35:31.409453: W tensorflow/compiler/tf2tensorrt/utils/py_utils.cc:38] TF-TRT Warning: Could not find TensorRT\n"
     ]
    },
    {
     "name": "stdout",
     "output_type": "stream",
     "text": [
      "\n",
      "Avaliable feature extractors are (use the key of the following dict and pass it to features_to_extract in the Dataset Class):\n",
      "{\n",
      "   \"atom_count\": \"Atom count of PTM.\",\n",
      "   \"delta_mass\": \"Delta mass of PTM.\",\n",
      "   \"mod_gain\": \"Gain of atoms due to PTM.\",\n",
      "   \"mod_loss\": \"Loss of atoms due to PTM.\",\n",
      "   \"red_smiles\": \"Reduced SMILES representation of PTM.\"\n",
      "}.\n",
      "When writing your own feature extractor, you can either\n",
      "    (1) use the FeatureExtractor class or\n",
      "    (2) write a function that can be mapped to the Hugging Face dataset.\n",
      "In both cases, you can access the parsed sequence information from the dataset using the following keys, which all provide python lists:\n",
      "    - _parsed_sequence: parsed sequence\n",
      "    - _n_term_mods: N-terminal modifications\n",
      "    - _c_term_mods: C-terminal modifications\n",
      "\n"
     ]
    }
   ],
   "source": [
    "import logging\n",
    "import os\n",
    "import sys\n",
    "from typing import Union\n",
    "\n",
    "import pandas as pd\n",
    "import numpy as np\n",
    "import tensorflow as tf\n",
    "import yaml\n",
    "from dlomix.models import PrositIntensityPredictor\n",
    "from numpy.typing import NDArray\n",
    "\n",
    "import shap\n",
    "import matplotlib.pyplot as plt\n",
    "import matplotlib\n",
    "matplotlib.use('inline')\n",
    "sys.path.append(os.getcwd())\n",
    "\n",
    "from src.models.model_wrappers import ModelWrapper, model_wrappers\n",
    "from src.shap_prosit.shap_calculator import ShapCalculator\n",
    "\n",
    "tf.get_logger().setLevel(logging.ERROR)\n",
    "\n",
    "\n",
    "\n",
    "with open(\"config.yaml\", encoding=\"utf-8\") as file:\n",
    "    config = yaml.safe_load(file)[\"shap_calculator\"]\n",
    "\n",
    "#if not os.path.exists(config[\"ion\"]):\n",
    "#   os.makedirs(config[\"ion\"])\n",
    "\n",
    "# Shuffle validation dataset and split it in background and validation.\n",
    "val_data = np.array([m.split(\",\") for m in open(config[\"val_inps_path\"]).read().split(\"\\n\")])\n",
    "if config[\"perm_path\"] is None:\n",
    "    perm = np.random.permutation(np.arange(len(val_data)))\n",
    "    np.savetxt(output_path + \"/perm.txt\", perm, fmt=\"%d\")\n",
    "else:\n",
    "    perm = np.loadtxt(config[\"perm_path\"]).astype(int)\n",
    "bgd_sz = config['bgd_sz']\n",
    "bgd = val_data[perm[:bgd_sz]]\n",
    "val = val_data[perm[bgd_sz:]]"
   ]
  },
  {
   "cell_type": "code",
   "execution_count": 19,
   "id": "21a1ca17-18e9-4307-85a4-8fbd55060217",
   "metadata": {},
   "outputs": [],
   "source": [
    "def local_explanation(\n",
    "    sequence, \n",
    "    charge, \n",
    "    energy,\n",
    "    ion='y5+1',\n",
    "    samp=100\n",
    "):\n",
    "    space = (30-len(sequence))*[\"\"]\n",
    "    calc_input = np.array(list(sequence) + space + [str(energy), str(charge)], dtype='<U4')[None]\n",
    "\n",
    "    sc = ShapCalculator(ion, val, bgd, model_wrapper=model_wrapper)\n",
    "    bgd_pred = model_wrapper.make_prediction(bgd)\n",
    "    bgd_mean = np.mean(bgd_pred)\n",
    "    \n",
    "    out_dict = sc.calc_shap_values(calc_input, samp=samp)\n",
    "    ext = int(ion[1])\n",
    "    poslambda = lambda a: a-1-(len(sequence)-ext) if ion[0]=='y' else ext-a-1\n",
    "    tokens = ['%s_%d'%(b, poslambda(a)) for a,b in enumerate(sequence)]\n",
    "    explanation = shap.Explanation(out_dict['shap_values'], base_values=bgd_mean, feature_names=tokens)\n",
    "    \n",
    "    plt.close()\n",
    "    matplotlib.use('inline')\n",
    "    shap.waterfall_plot(explanation)"
   ]
  },
  {
   "cell_type": "code",
   "execution_count": 25,
   "id": "32dd0093-5851-489f-ac22-5385403c7715",
   "metadata": {},
   "outputs": [
    {
     "data": {
      "application/vnd.jupyter.widget-view+json": {
       "model_id": "aa944b5c0d1b465a8514465f515f6bd7",
       "version_major": 2,
       "version_minor": 0
      },
      "text/plain": [
       "Prosit_2019_intensity::   0%|          | 0/1 [00:00<?, ?it/s]"
      ]
     },
     "metadata": {},
     "output_type": "display_data"
    },
    {
     "data": {
      "application/vnd.jupyter.widget-view+json": {
       "model_id": "dd7f14413cfa4b73ada4810bd84e86d8",
       "version_major": 2,
       "version_minor": 0
      },
      "text/plain": [
       "Prosit_2019_intensity::   0%|          | 0/1 [00:00<?, ?it/s]"
      ]
     },
     "metadata": {},
     "output_type": "display_data"
    },
    {
     "data": {
      "application/vnd.jupyter.widget-view+json": {
       "model_id": "8b7210e6f96541d299170d32b9995767",
       "version_major": 2,
       "version_minor": 0
      },
      "text/plain": [
       "Prosit_2019_intensity::   0%|          | 0/1 [00:00<?, ?it/s]"
      ]
     },
     "metadata": {},
     "output_type": "display_data"
    },
    {
     "data": {
      "application/vnd.jupyter.widget-view+json": {
       "model_id": "64893784668d44dd9f9063840e003566",
       "version_major": 2,
       "version_minor": 0
      },
      "text/plain": [
       "Prosit_2019_intensity::   0%|          | 0/1 [00:00<?, ?it/s]"
      ]
     },
     "metadata": {},
     "output_type": "display_data"
    },
    {
     "data": {
      "application/vnd.jupyter.widget-view+json": {
       "model_id": "4262e0c947b347c3bbf0dad34fff139c",
       "version_major": 2,
       "version_minor": 0
      },
      "text/plain": [
       "  0%|          | 0/1 [00:00<?, ?it/s]"
      ]
     },
     "metadata": {},
     "output_type": "display_data"
    },
    {
     "data": {
      "application/vnd.jupyter.widget-view+json": {
       "model_id": "db5528ebcd6440e48ca0b98e926e5a4a",
       "version_major": 2,
       "version_minor": 0
      },
      "text/plain": [
       "Prosit_2019_intensity::   0%|          | 0/1 [00:00<?, ?it/s]"
      ]
     },
     "metadata": {},
     "output_type": "display_data"
    },
    {
     "data": {
      "application/vnd.jupyter.widget-view+json": {
       "model_id": "78bf0d08518d42ba8a4954efb7ee440c",
       "version_major": 2,
       "version_minor": 0
      },
      "text/plain": [
       "Prosit_2019_intensity::   0%|          | 0/1 [00:00<?, ?it/s]"
      ]
     },
     "metadata": {},
     "output_type": "display_data"
    },
    {
     "data": {
      "application/vnd.jupyter.widget-view+json": {
       "model_id": "ae31b16365c44b92873a77ec91baac8a",
       "version_major": 2,
       "version_minor": 0
      },
      "text/plain": [
       "Prosit_2019_intensity::   0%|          | 0/1 [00:00<?, ?it/s]"
      ]
     },
     "metadata": {},
     "output_type": "display_data"
    },
    {
     "data": {
      "application/vnd.jupyter.widget-view+json": {
       "model_id": "7cdd1f1a9e9f4032aa7f375a7a50bbb4",
       "version_major": 2,
       "version_minor": 0
      },
      "text/plain": [
       "Prosit_2019_intensity::   0%|          | 0/1 [00:00<?, ?it/s]"
      ]
     },
     "metadata": {},
     "output_type": "display_data"
    },
    {
     "data": {
      "application/vnd.jupyter.widget-view+json": {
       "model_id": "d5bdca19d8c449689fd6404937dbd022",
       "version_major": 2,
       "version_minor": 0
      },
      "text/plain": [
       "Prosit_2019_intensity::   0%|          | 0/1 [00:00<?, ?it/s]"
      ]
     },
     "metadata": {},
     "output_type": "display_data"
    },
    {
     "data": {
      "application/vnd.jupyter.widget-view+json": {
       "model_id": "2bcf5f73b4e84546a8bf2bdf1716a817",
       "version_major": 2,
       "version_minor": 0
      },
      "text/plain": [
       "Prosit_2019_intensity::   0%|          | 0/1 [00:00<?, ?it/s]"
      ]
     },
     "metadata": {},
     "output_type": "display_data"
    },
    {
     "data": {
      "application/vnd.jupyter.widget-view+json": {
       "model_id": "96a3fa813cb14c5a89930b66bbf08675",
       "version_major": 2,
       "version_minor": 0
      },
      "text/plain": [
       "Prosit_2019_intensity::   0%|          | 0/1 [00:00<?, ?it/s]"
      ]
     },
     "metadata": {},
     "output_type": "display_data"
    },
    {
     "data": {
      "application/vnd.jupyter.widget-view+json": {
       "model_id": "1c77d4d17ae449b29b5537a20ff25862",
       "version_major": 2,
       "version_minor": 0
      },
      "text/plain": [
       "Prosit_2019_intensity::   0%|          | 0/1 [00:00<?, ?it/s]"
      ]
     },
     "metadata": {},
     "output_type": "display_data"
    },
    {
     "data": {
      "application/vnd.jupyter.widget-view+json": {
       "model_id": "ff6bb5db68f14e349ef5dd2e61f360ef",
       "version_major": 2,
       "version_minor": 0
      },
      "text/plain": [
       "Prosit_2019_intensity::   0%|          | 0/1 [00:00<?, ?it/s]"
      ]
     },
     "metadata": {},
     "output_type": "display_data"
    },
    {
     "data": {
      "application/vnd.jupyter.widget-view+json": {
       "model_id": "a68a68f3aabf4350ab0a431736eeff78",
       "version_major": 2,
       "version_minor": 0
      },
      "text/plain": [
       "Prosit_2019_intensity::   0%|          | 0/1 [00:00<?, ?it/s]"
      ]
     },
     "metadata": {},
     "output_type": "display_data"
    },
    {
     "data": {
      "application/vnd.jupyter.widget-view+json": {
       "model_id": "8e668142796a48ff95747e62fa0002d1",
       "version_major": 2,
       "version_minor": 0
      },
      "text/plain": [
       "Prosit_2019_intensity::   0%|          | 0/1 [00:00<?, ?it/s]"
      ]
     },
     "metadata": {},
     "output_type": "display_data"
    },
    {
     "data": {
      "image/png": "[encoded data removed]",
      "text/plain": [
       "<Figure size 800x650 with 3 Axes>"
      ]
     },
     "metadata": {},
     "output_type": "display_data"
    }
   ],
   "source": [
    "ion='b3+1'\n",
    "model_wrapper = model_wrappers[config[\"model_type\"]](\n",
    "    path=config[\"model_path\"], ion=ion\n",
    ")\n",
    "local_explanation(\"RADCISEPVNR\", 3, 0.3, ion=ion, samp=100)"
   ]
  }
 ],
 "metadata": {
  "kernelspec": {
   "display_name": "Python 3 (ipykernel)",
   "language": "python",
   "name": "python3"
  },
  "language_info": {
   "codemirror_mode": {
    "name": "ipython",
    "version": 3
   },
   "file_extension": ".py",
   "mimetype": "text/x-python",
   "name": "python",
   "nbconvert_exporter": "python",
   "pygments_lexer": "ipython3",
   "version": "3.10.14"
  }
 },
 "nbformat": 4,
 "nbformat_minor": 5
}
